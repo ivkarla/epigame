{
 "cells": [
  {
   "cell_type": "markdown",
   "metadata": {},
   "source": [
    "##### This notebook can be used to load the abstract screen results (extracted from abstrackr) and filter out the excluded publications. The publications included by consensus (after conflict resolution) are formatted into a PUBMED ID list for import to SRDR+."
   ]
  },
  {
   "cell_type": "markdown",
   "metadata": {},
   "source": [
    "##### The abstract screen results are extracted in CSV format. \n",
    "##### We will exclude the excluded publications and save a list of PUBMED IDs as TXT file."
   ]
  },
  {
   "cell_type": "markdown",
   "metadata": {},
   "source": [
    "Convert CSV to XLSX:"
   ]
  },
  {
   "cell_type": "code",
   "execution_count": 14,
   "metadata": {},
   "outputs": [],
   "source": [
    "# import pandas as pd\n",
    "\n",
    "# # Define the file path\n",
    "# csv_file =  \"/home/kivi/Downloads/abstrackr_consensus_090424.csv\"\n",
    "# df = pd.read_csv(csv_file)\n",
    "\n",
    "# # Save the DataFrame to an XLSX file\n",
    "# xlsx_file = \"/home/kivi/Downloads/epirev_extracted_data_090424.xlsx\"\n",
    "# df.to_excel(xlsx_file, index=False)"
   ]
  },
  {
   "cell_type": "markdown",
   "metadata": {},
   "source": [
    "Convert XLSX to CSV:"
   ]
  },
  {
   "cell_type": "code",
   "execution_count": 15,
   "metadata": {},
   "outputs": [],
   "source": [
    "# import pandas as pd\n",
    "\n",
    "# # Load the Excel file into a DataFrame\n",
    "# xlsx_file = \"/home/kivi/Downloads/epirev_extracted_data_090424.xlsx\"\n",
    "# df = pd.read_excel(xlsx_file)\n",
    "\n",
    "# # Save the DataFrame to a CSV file\n",
    "# csv_file =  \"/home/kivi/Downloads/abstrackr_consensus_090424.csv\"\n",
    "# df.to_csv(csv_file, index=False)"
   ]
  },
  {
   "cell_type": "code",
   "execution_count": 47,
   "metadata": {},
   "outputs": [
    {
     "name": "stdout",
     "output_type": "stream",
     "text": [
      "163\n",
      "Column names:\n",
      "(internal) id\n",
      "(source) id\n",
      "pubmed id\n",
      "abstract\n",
      "title\n",
      "journal\n",
      "authors\n",
      "consensus\n",
      "labeled_at\n",
      "kivankovic\n",
      "labeled_at.1\n",
      "alessandro.principe\n",
      "labeled_at.2\n"
     ]
    }
   ],
   "source": [
    "import pandas as pd\n",
    "\n",
    "# Step 1: Read the CSV file\n",
    "csv_consensus_file_path = \"/home/kivi/Downloads/abstrackr_consensus_090424.csv\"\n",
    "df_consensus = pd.read_csv(csv_consensus_file_path)\n",
    "\n",
    "# Step 2: Filter out rows with consensus == -1\n",
    "filtered_df = df_consensus[df_consensus['consensus'] == \"1\"]\n",
    "print(len(filtered_df))\n",
    "\n",
    "# Print the columns of the DataFrame\n",
    "print(\"Column names:\")\n",
    "for column in df_consensus.columns: print(column)\n",
    "\n",
    "# Step 3: Save the \"(internal) id\" column to a TXT file\n",
    "txt_file_path = \"/home/kivi/Downloads/abstrackr_internalid_consensus_090424.txt\"\n",
    "with open(txt_file_path, 'w') as txt_file:\n",
    "    for idx, row in filtered_df.iterrows():\n",
    "        txt_file.write(f\"({row['(internal) id']},{row['pubmed id']})\\n\")\n",
    "\n",
    "txt_file.close()"
   ]
  },
  {
   "cell_type": "code",
   "execution_count": 45,
   "metadata": {},
   "outputs": [
    {
     "name": "stdout",
     "output_type": "stream",
     "text": [
      "182\n",
      "Column names:\n",
      "(internal) id\n",
      "(source) id\n",
      "pubmed id\n",
      "keywords\n",
      "abstract\n",
      "title\n",
      "journal\n",
      "authors\n",
      "tags\n",
      "consensus\n",
      "labeled_at\n",
      "kivankovic\n",
      "labeled_at.1\n"
     ]
    }
   ],
   "source": [
    "# Step 1: Read the CSV file\n",
    "csv_karla_file_path = \"/home/kivi/Downloads/abstrackr_karla_110124.csv\"\n",
    "df_karla = pd.read_csv(csv_karla_file_path)\n",
    "\n",
    "# Step 2: Filter out rows with consensus == -1\n",
    "filtered_df = df_karla[df_karla['kivankovic'] == 1.0]\n",
    "print(len(filtered_df))\n",
    "\n",
    "# Print the columns of the DataFrame\n",
    "print(\"Column names:\")\n",
    "for column in df_karla.columns: print(column)\n",
    "\n",
    "# Step 3: Save the \"(internal) id\" column to a TXT file\n",
    "txt_file_path = \"/home/kivi/Downloads/abstrackr_internalid_karla_110124.txt\"\n",
    "with open(txt_file_path, 'w') as txt_file:\n",
    "    for idx, row in df_karla.iterrows():\n",
    "        txt_file.write(f\"({row['(internal) id']},{int(row['pubmed id'])})\\n\")\n",
    "\n",
    "txt_file.close()"
   ]
  },
  {
   "cell_type": "markdown",
   "metadata": {},
   "source": [
    "##### Now we will load the already reviewed list of publications (as internal ID list) and compare it to the consensus list."
   ]
  },
  {
   "cell_type": "code",
   "execution_count": 43,
   "metadata": {},
   "outputs": [
    {
     "name": "stdout",
     "output_type": "stream",
     "text": [
      "Karla's screen: 182\n",
      "Included publication after conflict resolution: 163\n",
      "Total conflicts: 41\n",
      "Studies with unavailable PUBMED ID:\n",
      " ['39471769', '39471863', '39472027', '39472076', '39472090', '39472093', '39472141', '39472212', '39472229', '39472240']\n",
      "['(39470572,30166056)', '(39470576,37555141)', '(39470592,31785422)', '(39470596,29067832)', '(39470605,29523391)', '(39470611,35260657)', '(39470638,32589284)', '(39470668,30508033)', '(39470669,37728414)', '(39470691,37652703)', '(39470760,28166392)', '(39470799,34817446)', '(39470826,36088217)', '(39470870,35240426)', '(39470924,37480785)', '(39470938,33960712)', '(39471099,34991017)', '(39471112,37546108)', '(39471171,31491812)', '(39471244,36381989)', '(39471267,35774185)', '(39471285,28782373)', '(39471286,34191730)', '(39471308,31756595)', '(39471333,37064531)', '(39471334,36672052)', '(39471526,36696482)', '(39471577,37002979)', '(39471631,33972159)', '(39471655,34891320)', '(39471690,31783358)', '(39471769,0)', '(39471863,0)', '(39472027,0)', '(39472076,0)', '(39472090,0)', '(39472093,0)', '(39472141,0)', '(39472212,0)', '(39472229,0)', '(39472240,0)']\n"
     ]
    }
   ],
   "source": [
    "# Step 1: Read the TXT files into lists\n",
    "karla_file_path = '/home/kivi/Downloads/abstrackr_internalid_karla_110124.txt'\n",
    "consensus_file_path = '/home/kivi/Downloads/abstrackr_internalid_consensus_090424.txt'\n",
    "\n",
    "with open(karla_file_path, 'r') as karla_file:\n",
    "    karla_ids = karla_file.read().splitlines()\n",
    "\n",
    "with open(consensus_file_path, 'r') as consensus_file:\n",
    "    consensus_ids = consensus_file.read().splitlines()\n",
    "\n",
    "print(\"Karla's screen:\", len(karla_ids))\n",
    "print(\"Included publication after conflict resolution:\", len(consensus_ids))\n",
    "# Step 2: Identify PubMed IDs present in the first file but not in the second file\n",
    "unique_ids = [id for id in consensus_ids if id not in karla_ids]\n",
    "\n",
    "print(\"Total conflicts:\", len(unique_ids))\n",
    "\n",
    "print(\"Studies in conflicts with unavailable PUBMED ID:\\n\", [p.split(\",\")[0][1::] for p in unique_ids if p.split(\",\")[1][:-1]==\"0\"])\n",
    "\n",
    "# Step 3: Save the unique PubMed IDs to a new TXT file\n",
    "# output_file_path = '/home/kivi/Downloads/unreviewed_pubmed_ids.txt'\n",
    "# with open(output_file_path, 'w') as output_file:\n",
    "#     for pubmed_id in unique_pubmed_ids:\n",
    "#         if len(pubmed_id)<=8: #make sure that it is PUBMED ID ant not other text\n",
    "#             output_file.write(pubmed_id + '\\n')\n",
    "# \n",
    "# output_file.close()\n",
    "\n",
    "# with open(output_file_path, 'r') as output_file:\n",
    "#     unreviwed_pubmed_ids = list(output_file.read().splitlines())\n",
    "#     print(\"Unreviewed, included from Alessandro's screen:\", len(unreviwed_pubmed_ids))\n",
    "#     print(\"The PUBMED IDs to import to SRDR+:\\n\", unreviwed_pubmed_ids)\n",
    "\n",
    "karla_file.close()\n",
    "consensus_file.close()\n",
    "# output_file.close()\n"
   ]
  },
  {
   "cell_type": "markdown",
   "metadata": {},
   "source": [
    "##### We have 41 new unreviewed publications. However, some publications from Karla's list are to be excluded.\n",
    "##### The publications that must be excluded from Karla's list will be excluded from the extracted data XLSX, before the analysis of the data.\n",
    "##### We will import the new  publications into the SRDR+ project manually, based on PUBMED ID.\n",
    "##### For the publications with unknown PUBMED ID, we will find them via title."
   ]
  },
  {
   "cell_type": "markdown",
   "metadata": {},
   "source": [
    "Below, we fetch the titles from the original CVS file extracted from abstrackr, based on internal IDs of publications with unknown PUBMED ID."
   ]
  },
  {
   "cell_type": "code",
   "execution_count": 53,
   "metadata": {},
   "outputs": [
    {
     "name": "stdout",
     "output_type": "stream",
     "text": [
      "Source localization of epileptic spikes using Multiple Sparse Priors \n",
      "\n",
      "Quantitative electrocorticographic biomarkers of clinical outcomes in mesial temporal lobe epileptic patients treated with the RNS? system \n",
      "\n",
      "Correlations between interictal extratemporal spikes and clinical features, imaging characteristics, and surgical outcomes in patients with mesial temporal lobe epilepsy \n",
      "\n",
      "Metabolic Brain Network and Surgical Outcome in Temporal Lobe Epilepsy: A Graph Theoretical Study Based on 18F-fluorodeoxyglucose PET \n",
      "\n",
      "Ictal onset patterns of subdural intracranial electroencephalogram in children: How helpful for predicting epilepsy surgery outcome? \n",
      "\n",
      "Betweenness centrality of intracranial electroencephalography networks and surgical epilepsy outcome \n",
      "\n",
      "The delta between postoperative seizure freedom and persistence: Automatically detected focal slow waves after epilepsy surgery \n",
      "\n",
      "Associated factors with stimulation induced seizures and the relevance with surgical outcomes \n",
      "\n",
      "Detection of pathological high-frequency oscillations in refractory epilepsy patients undergoing simultaneous stereo-electroencephalography and magnetoencephalography \n",
      "\n",
      "Source localization of ictal SEEG to predict postoperative seizure outcome \n",
      "\n"
     ]
    }
   ],
   "source": [
    "\n",
    "# Define the list of IDs\n",
    "id_list = [p.split(\",\")[0][1::] for p in unique_ids if p.split(\",\")[1][:-1]==\"0\"]\n",
    "\n",
    "# Filter the DataFrame based on the IDs in the \"internal id\" column\n",
    "filtered_df_consensus = df_consensus[df_consensus['(internal) id'].astype(str).isin(id_list)]\n",
    "\n",
    "# Extract the values from the \"title\" column corresponding to the filtered IDs\n",
    "title_values = filtered_df_consensus['title'].tolist()\n",
    "\n",
    "# Print the list of title values\n",
    "for title in title_values: print(title, \"\\n\")\n"
   ]
  },
  {
   "cell_type": "markdown",
   "metadata": {},
   "source": [
    "Check duplicates:"
   ]
  },
  {
   "cell_type": "code",
   "execution_count": 17,
   "metadata": {},
   "outputs": [
    {
     "name": "stdout",
     "output_type": "stream",
     "text": [
      "5\n",
      "142\n",
      "Total duplicates: 147\n"
     ]
    }
   ],
   "source": [
    "# Read the CSV file\n",
    "duplicates_file_path = \"/home/kivi/Downloads/duplicated.csv\"\n",
    "df_dups = pd.read_csv(duplicates_file_path)\n",
    "\n",
    "# Step 2: Filter out rows with consensus == -1\n",
    "dup = df_dups[df_dups['tags'] == \"duplicate\"]\n",
    "possible_dup = df_dups[df_dups['tags'] == \"possible duplicate\"]\n",
    "\n",
    "print(len(possible_dup))\n",
    "print(len(dup))\n",
    "\n",
    "print(\"Total duplicates:\", len(possible_dup)+len(dup))"
   ]
  },
  {
   "cell_type": "code",
   "execution_count": null,
   "metadata": {},
   "outputs": [],
   "source": []
  }
 ],
 "metadata": {
  "kernelspec": {
   "display_name": "xnn",
   "language": "python",
   "name": "python3"
  },
  "language_info": {
   "codemirror_mode": {
    "name": "ipython",
    "version": 3
   },
   "file_extension": ".py",
   "mimetype": "text/x-python",
   "name": "python",
   "nbconvert_exporter": "python",
   "pygments_lexer": "ipython3",
   "version": "3.9.18"
  }
 },
 "nbformat": 4,
 "nbformat_minor": 2
}
