{
 "cells": [
  {
   "cell_type": "markdown",
   "metadata": {},
   "source": [
    "##### This notebook can be used to load the abstract screen results (extracted from abstrackr) and filter out the excluded publications. The publications included by consensus (after conflict resolution) are formatted into a PUBMED ID list for import to SRDR+."
   ]
  },
  {
   "cell_type": "markdown",
   "metadata": {},
   "source": [
    "##### The abstract screen results are extracted in CSV format. \n",
    "##### We will exclude the excluded publications and save a list of PUBMED IDs as TXT file."
   ]
  },
  {
   "cell_type": "code",
   "execution_count": 5,
   "metadata": {},
   "outputs": [
    {
     "name": "stdout",
     "output_type": "stream",
     "text": [
      "171\n"
     ]
    }
   ],
   "source": [
    "import pandas as pd\n",
    "\n",
    "# Step 1: Read the CSV file\n",
    "csv_file_path = \"/home/kivi/Downloads/abstrackr_consensus_090424.csv\"\n",
    "df = pd.read_csv(csv_file_path)\n",
    "\n",
    "# Step 2: Filter out rows with consensus == -1\n",
    "filtered_df = df[df['consensus'] != \"-1\"]\n",
    "print(len(filtered_df))\n",
    "\n",
    "# Step 3: Save the \"PUBMED ID\" column to a TXT file\n",
    "txt_file_path = \"/home/kivi/Downloads/abstrackr_pubmedid_consensus_090424.txt\"\n",
    "with open(txt_file_path, 'w') as txt_file:\n",
    "    for pubmed_id in filtered_df['pubmed id']:\n",
    "        txt_file.write(str(pubmed_id) + '\\n')\n",
    "\n",
    "txt_file.close()"
   ]
  },
  {
   "cell_type": "markdown",
   "metadata": {},
   "source": [
    "##### Now we will load the already reviewed list of publications (as PUBMED ID list) and compare it to the consensus list. The new PUBMED IDs will be saved as TXT file."
   ]
  },
  {
   "cell_type": "code",
   "execution_count": 13,
   "metadata": {},
   "outputs": [
    {
     "name": "stdout",
     "output_type": "stream",
     "text": [
      "Karla's screen: 182\n",
      "Included publication after conflict resolution: 171\n",
      "Unreviewed, included from Alessandro's screen: 35\n"
     ]
    }
   ],
   "source": [
    "# Step 1: Read the TXT files into lists\n",
    "karla_file_path = '/home/kivi/Downloads/abstrackr_pubmedid_karla_110124.txt'\n",
    "consensus_file_path = '/home/kivi/Downloads/abstrackr_pubmedid_consensus_090424.txt'\n",
    "\n",
    "with open(karla_file_path, 'r') as karla_file:\n",
    "    karla_pubmed_ids = karla_file.read().splitlines()\n",
    "\n",
    "with open(consensus_file_path, 'r') as consensus_file:\n",
    "    consensus_pubmed_ids = consensus_file.read().splitlines()\n",
    "\n",
    "print(\"Karla's screen:\", len(karla_pubmed_ids))\n",
    "print(\"Included publication after conflict resolution:\", len(consensus_pubmed_ids))\n",
    "# Step 2: Identify PubMed IDs present in the first file but not in the second file\n",
    "unique_pubmed_ids = [pubmed_id for pubmed_id in consensus_pubmed_ids if pubmed_id not in karla_pubmed_ids]\n",
    "\n",
    "# Step 3: Save the unique PubMed IDs to a new TXT file\n",
    "output_file_path = '/home/kivi/Downloads/unreviewed_pubmed_ids.txt'\n",
    "with open(output_file_path, 'w') as output_file:\n",
    "    for pubmed_id in unique_pubmed_ids:\n",
    "        output_file.write(pubmed_id + '\\n')\n",
    "\n",
    "output_file.close()\n",
    "\n",
    "with open(output_file_path, 'r') as output_file:\n",
    "    print(\"Unreviewed, included from Alessandro's screen:\", len(output_file.read().splitlines()))\n",
    "\n",
    "karla_file.close()\n",
    "consensus_file.close()\n",
    "output_file.close()\n"
   ]
  },
  {
   "cell_type": "markdown",
   "metadata": {},
   "source": [
    "##### We have 48 new unreviewed publications. However, some publications from Karla's list are to be excluded.\n",
    "##### We will import the new 48 publications into the SRDR+ project. The publications that must be excluded from Karla's list will be excluded from the extracted data XLSX, before the analysis of the data."
   ]
  }
 ],
 "metadata": {
  "kernelspec": {
   "display_name": "xnn",
   "language": "python",
   "name": "python3"
  },
  "language_info": {
   "codemirror_mode": {
    "name": "ipython",
    "version": 3
   },
   "file_extension": ".py",
   "mimetype": "text/x-python",
   "name": "python",
   "nbconvert_exporter": "python",
   "pygments_lexer": "ipython3",
   "version": "3.9.16"
  }
 },
 "nbformat": 4,
 "nbformat_minor": 2
}
