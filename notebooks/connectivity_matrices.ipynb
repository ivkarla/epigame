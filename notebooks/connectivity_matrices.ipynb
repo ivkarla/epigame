{
 "cells": [
  {
   "cell_type": "code",
   "execution_count": null,
   "metadata": {},
   "outputs": [],
   "source": [
    "from src.eeg import EEG, SET, epoch, ms, np, struct\n",
    "from src.core import REc as rec\n",
    "from src.data_legacy import band\n",
    "from src.connectivity import preprocess, connectivity_analysis, phaselock, phaselag, spectral_coherence, PEC, cross_correlation, PAC\n",
    "\n",
    "from os import makedirs"
   ]
  },
  {
   "cell_type": "code",
   "execution_count": null,
   "metadata": {},
   "outputs": [],
   "source": [
    "# from google.colab import drive\n",
    "# drive.mount('/content/gdrive')\n",
    "# main_folder = \"/content/gdrive/epigame-folder/\"\n",
    "main_folder = \"/home/kivi/gdrive/epigame-folder/\""
   ]
  },
  {
   "cell_type": "code",
   "execution_count": null,
   "metadata": {},
   "outputs": [],
   "source": [
    "woi = input(\"Time window:\\n 1. Non-seizure (baseline)\\n 2. Pre-seizure (5 min prior to seizure)\\n 3. Pre-seizure (4 min prior to seizure)\\n 4. Pre-seizure (3 min prior to seizure)\\n 5. Pre-seizure (2 min prior to seizure)\\n 6. Pre-seizure (1 min prior to seizure)\\n 7. Transition to seizure (1 min interval)\\n 8. Transition to seizure (2 min interval)\\n 9. Transition to seizure (60% seizure length interval)\\n 10. Seizure\\n Indicate a number: \")\n",
    "\n",
    "method_idx = input(\"Connectivity method:\\n 1. PEC\\n 2. Spectral Coherence\\n 3. Phase Lock Value\\n 4. Phase-Lag Index\\n 5. Cross-correlation\\n 6. Phase-amplitude coupling\\n Indicate a number: \")\n",
    "\n",
    "ext = \"\"\n",
    "if \"2\" == method_idx: \n",
    "    im = input(\"Imaginary part (Y/N): \").upper()\n",
    "    if im == \"Y\": imag,ext = True,\"I\"\n",
    "    elif im == \"N\": imag,ext = False,\"R\"\n",
    "\n",
    "bands, Bands = input(\"Filter the signal: Y/N \").upper(), False\n",
    "\n",
    "if bands==\"N\": bands = \"w\"\n",
    "elif bands==\"Y\": \n",
    "    Bands = True\n",
    "    mn = int(input(\"Set band range min: \"))\n",
    "    mx = int(input(\"Set band range max: \"))\n",
    "    bands = (mn,mx)\n",
    "\n",
    "method_code = {'1':\"PEC\", '2':\"SC_\", '3':\"PLV\", '4':\"PLI\", '5':\"CC\", '6':\"PAC\"}   \n",
    "woi_code = {'1':\"baseline\", '2':\"preseizure5\", '3':\"preseizure4\", '4':\"preseizure3\", '5':\"preseizure2\", '6':\"preseizure1\", '7':\"transition1\", '8':\"transition2\", '9':\"transition60\", '10':\"seizure\"}"
   ]
  },
  {
   "attachments": {},
   "cell_type": "markdown",
   "metadata": {},
   "source": [
    "###### Defining path to the EDF file. Filename format should be: patientacronym*-baseline.EDF or patientacronym*-seizure.EDF (asterix signifies a regular expression for any string of choice).\n",
    "###### Subject identifier is saved as a three-letter acronym. "
   ]
  },
  {
   "cell_type": "code",
   "execution_count": null,
   "metadata": {},
   "outputs": [],
   "source": [
    "file_baseline = main_folder + \"data/ASJ2016APR14-PAc-baseline.EDF\"\n",
    "file_seizure = main_folder + \"data/ASJ2016APR14-PAc-seizure.EDF\"\n",
    "\n",
    "subject_id = file_seizure[0:3]"
   ]
  },
  {
   "attachments": {},
   "cell_type": "markdown",
   "metadata": {},
   "source": [
    "###### Connectivity will be measured in epochs of data and later classified between baseline and a window of interest (WOI).\n",
    "###### The WOI is fragmented into epochs of 1 second (span), with half-second overlaps (step). \n",
    "###### To keep the dataset balanced, we considered a fixed number of epochs, irregardless of the WOI duration. This number was fixed to 119 epochs (60/0.5-1), which covers a 1-minute window using the pre-set span and step parameters. "
   ]
  },
  {
   "cell_type": "code",
   "execution_count": null,
   "metadata": {},
   "outputs": [],
   "source": [
    "span, step = 1000, 500      # in ms\n",
    "min_woi_duration = 60000    # in ms\n",
    "n_epochs = (min_woi_duration/step)-1\n",
    "\n",
    "eeg_seizure = EEG.from_file(file_seizure, epoch(ms(step), ms(span)))    # load raw seizure SEEG data as an EEG object (class) \n",
    "eeg_baseline = EEG.from_file(file_baseline, epoch(ms(step), ms(span)))   # load raw baseline SEEG data as an EEG object (class) "
   ]
  },
  {
   "attachments": {},
   "cell_type": "markdown",
   "metadata": {},
   "source": [
    "###### The raw signal will be resampled to 500 Hz."
   ]
  },
  {
   "cell_type": "code",
   "execution_count": null,
   "metadata": {},
   "outputs": [],
   "source": [
    "# check sampling\n",
    "print(\"Sampling freqency (seizure file) =\", eeg_seizure.fs)\n",
    "print(\"Sampling freqency (baseline file) =\", eeg_baseline.fs)\n",
    "\n",
    "fs_min = min(eeg_seizure.fs, eeg_baseline.fs)\n",
    "\n",
    "# set the resampled frequency to 500 Hz if sampling is not already 512 Hz\n",
    "resampling = 512 if fs_min==512 else 500"
   ]
  },
  {
   "attachments": {},
   "cell_type": "markdown",
   "metadata": {},
   "source": [
    "###### Label the non-seizure (baseline) and seizure epochs relative to the position of clinical annotations (seizure start, seizure end). WOI is always defined relative to the seizure start. The baseline data is labeled independently."
   ]
  },
  {
   "cell_type": "code",
   "execution_count": null,
   "metadata": {},
   "outputs": [],
   "source": [
    "SET(eeg_seizure, _as='N')                      # N - baseline (non-seizure)\n",
    "SET(eeg_seizure, 'EEG inicio', 'W')            # W - WOI\n",
    "SET(eeg_seizure, 'EEG fin', 'S', epoch.END)    # S - seizure\n",
    "\n",
    "SET(eeg_baseline, _as='N')"
   ]
  },
  {
   "attachments": {},
   "cell_type": "markdown",
   "metadata": {},
   "source": [
    "###### Optimize the positions of epochs relative to the clinical annotations."
   ]
  },
  {
   "cell_type": "code",
   "execution_count": null,
   "metadata": {},
   "outputs": [],
   "source": [
    "eeg_seizure.optimize()\n",
    "eeg_seizure.remap()"
   ]
  },
  {
   "attachments": {},
   "cell_type": "markdown",
   "metadata": {},
   "source": [
    "###### Save seizure duration as the number of epochs present between the clinical annotations of seizure start and end."
   ]
  },
  {
   "cell_type": "code",
   "execution_count": null,
   "metadata": {},
   "outputs": [],
   "source": [
    "units = int((eeg_seizure.notes['EEG fin'][0].time - eeg_seizure.notes['EEG inicio'][0].time)*(span/step))\n",
    "print(\"Seizure length =\", units/2, \"s\")"
   ]
  },
  {
   "attachments": {},
   "cell_type": "markdown",
   "metadata": {},
   "source": [
    "###### Introduce a virtual mask into the eeg object, which indicates the time window to which an epoch belongs to (baseline, WOI or seizure). WOI is defined relative to the seizure start."
   ]
  },
  {
   "cell_type": "code",
   "execution_count": null,
   "metadata": {},
   "outputs": [],
   "source": [
    "if woi in [str(n) for n in [2,3,4,5,6]]:\n",
    "    woi_start = - int(woi_code[woi][-1])*n_epochs\n",
    "    woi_end = - (int(woi_code[woi][-1])-1)*n_epochs\n",
    "\n",
    "elif woi in [str(n) for n in [7,8]]:\n",
    "    woi_start = - int(round(int(woi_code[woi][-1])*60/2))\n",
    "    woi_end = - woi_start\n",
    "\n",
    "elif woi == \"9\":\n",
    "    woi_start = - int(round(units*.3))\n",
    "    woi_end = - woi_start\n",
    "\n",
    "eeg_seizure.tag(('W', 'S'), W=range(woi_start,woi_end,1), S=range(0,-units,-1))\n",
    "\n",
    "# elif woi == \"10\":\n",
    "#     eeg_seizure.tag(('S')) \n",
    "\n",
    "# eeg_baseline.tag(('N')) # TODO: is this necessary?"
   ]
  },
  {
   "attachments": {},
   "cell_type": "markdown",
   "metadata": {},
   "source": [
    "###### Fetch the WOI epochs."
   ]
  },
  {
   "cell_type": "code",
   "execution_count": null,
   "metadata": {},
   "outputs": [],
   "source": [
    "a, ai = eeg_seizure.sample.get('W', n_epochs)   \n",
    "b, bi = eeg_baseline.sample.get('N', n_epochs)   \n",
    "i = ai + bi                         \n",
    "x = a + b                         \n",
    "y = [0]*n_epochs + [1]*n_epochs   "
   ]
  },
  {
   "attachments": {},
   "cell_type": "markdown",
   "metadata": {},
   "source": [
    "###### Resample data."
   ]
  },
  {
   "cell_type": "code",
   "execution_count": null,
   "metadata": {},
   "outputs": [],
   "source": [
    "pp_seizure = [preprocess(eeg_seizure, ep, resampling) for i,ep in enumerate(x)] \n",
    "print(\"Resampled to\", pp_seizure[0].shape)\n",
    "\n",
    "pp_baseline = [preprocess(eeg_baseline, ep, resampling) for i,ep in enumerate(x)] \n",
    "print(\"Resampled to\", pp_baseline[0].shape)"
   ]
  },
  {
   "attachments": {},
   "cell_type": "markdown",
   "metadata": {},
   "source": [
    "###### Filter in the set frequency band, if needed."
   ]
  },
  {
   "cell_type": "code",
   "execution_count": null,
   "metadata": {},
   "outputs": [],
   "source": [
    "fpp_seizure = [band(e, bands, pp_seizure[0].shape[1]) for e in pp_seizure] if Bands else pp_seizure\n",
    "fpp_baseline = [band(e, bands, pp_baseline[0].shape[1]) for e in pp_baseline] if Bands else pp_baseline"
   ]
  },
  {
   "cell_type": "code",
   "execution_count": null,
   "metadata": {},
   "outputs": [],
   "source": [
    "cm = struct(x=np.array(x), y=np.array(y), i=np.array(i)) # initiating an object for storing a connecivity matrix with shape (x, y) and epoch indices\n",
    "\n",
    "nodes = list(eeg_seizure.axes.region)\n",
    "cm._set(nodes = nodes)\n",
    "\n",
    "if method_code[method_idx] == \"SC_\":\n",
    "    cm._set(X = connectivity_analysis(fpp_seizure, spectral_coherence, fs=fpp_seizure[0].shape[1], imag=imag))\n",
    "\n",
    "elif method_code[method_idx] == \"PEC\": \n",
    "    cm._set(X = [PEC(ep,i+1) for i,ep in enumerate(fpp_seizure)])\n",
    "\n",
    "elif method_code[method_idx] in \"PLV\":\n",
    "    cm._set(X = connectivity_analysis(fpp_seizure, phaselock))\n",
    "\n",
    "elif method_code[method_idx] == \"PLI\":\n",
    "    cm._set(X = connectivity_analysis(fpp_seizure, phaselag))\n",
    "\n",
    "elif method_code[method_idx] == \"CC\":\n",
    "    cm._set(X = connectivity_analysis(fpp_seizure, cross_correlation))\n",
    "\n",
    "elif method_code[method_idx] == \"PAC\":\n",
    "    cm._set(X = connectivity_analysis(fpp_seizure, PAC, True, fpp_seizure[0].shape[1]))"
   ]
  },
  {
   "attachments": {},
   "cell_type": "markdown",
   "metadata": {},
   "source": [
    "###### Specifying path directories for separating connectivity matrices obtained using different connectivity measures\n",
    "###### Each leaf directory will contain the connectivity matrices (custom-format PREP files) of all the analyzed subjects/patients.\n",
    "###### Path to the PREP file will be, e.g., \n",
    "###### \"*/connectivity_matrices/SUB-preseizure5-CC-(70,180).prep\" if the signal was filtered, and\n",
    "###### \"*/connectivity_matrices/SUB-preseizure5-PEC.prep\" if the signal was not filtered.\n",
    "###### (asterix signifies the main directory)"
   ]
  },
  {
   "cell_type": "code",
   "execution_count": null,
   "metadata": {},
   "outputs": [],
   "source": [
    "path_cm = main_folder + \"connectivity_matrices/\"\n",
    "makedirs(path_cm, exist_ok=True)\n",
    "\n",
    "if Bands:          rec(cm).save(path_cm + f\"{subject_id}-{woi_code[woi]}-{method_code[method_idx]}{ext}-{bands}.prep\".replace(\" \",\"\")) \n",
    "elif not Bands:    rec(cm).save(path_cm + f\"{subject_id}-{woi_code[woi]}-{method_code[method_idx]}{ext}.prep\") "
   ]
  }
 ],
 "metadata": {
  "kernelspec": {
   "display_name": "Python 3",
   "language": "python",
   "name": "python3"
  },
  "language_info": {
   "name": "python",
   "version": "3.10.6"
  },
  "orig_nbformat": 4,
  "vscode": {
   "interpreter": {
    "hash": "916dbcbb3f70747c44a77c7bcd40155683ae19c65e1c03b4aa3499c5328201f1"
   }
  }
 },
 "nbformat": 4,
 "nbformat_minor": 2
}
