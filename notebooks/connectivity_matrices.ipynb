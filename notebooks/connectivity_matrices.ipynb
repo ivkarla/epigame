{
 "cells": [
  {
   "cell_type": "code",
   "execution_count": 37,
   "metadata": {},
   "outputs": [],
   "source": [
    "from src.eeg import EEG, SET, epoch, ms, np, struct\n",
    "from src.core import REc as rec\n",
    "from src.data_legacy import band\n",
    "from src.connectivity import preprocess, connectivity_analysis, phaselock, phaselag, spectral_coherence, PEC, cross_correlation, PAC\n",
    "from src.tools import exclude_from_sz_cm \n",
    "from os import makedirs"
   ]
  },
  {
   "cell_type": "code",
   "execution_count": 38,
   "metadata": {},
   "outputs": [],
   "source": [
    "main_folder = \"/home/kivi/gdrive/epigame-folder/\""
   ]
  },
  {
   "cell_type": "code",
   "execution_count": 39,
   "metadata": {},
   "outputs": [],
   "source": [
    "woi = input(\"Time window:\\n 1. Non-seizure (baseline)\\n 2. Pre-seizure (5 min prior to seizure)\\n 3. Pre-seizure (4 min prior to seizure)\\n 4. Pre-seizure (3 min prior to seizure)\\n 5. Pre-seizure (2 min prior to seizure)\\n 6. Pre-seizure (1 min prior to seizure)\\n 7. Transition to seizure (1 min interval)\\n 8. Transition to seizure (2 min interval)\\n 9. Transition to seizure (60% seizure length interval)\\n 10. Seizure\\n Indicate a number: \")\n",
    "\n",
    "method_idx = input(\"Connectivity method:\\n 1. PEC\\n 2. Spectral Coherence\\n 3. Phase Lock Value\\n 4. Phase-Lag Index\\n 5. Cross-correlation\\n 6. Phase-amplitude coupling\\n Indicate a number: \")\n",
    "\n",
    "ext = \"\"\n",
    "if \"2\" == method_idx: \n",
    "    im = input(\"Imaginary part (Y/N): \").upper()\n",
    "    if im == \"Y\": imag,ext = True,\"I\"\n",
    "    elif im == \"N\": imag,ext = False,\"R\"\n",
    "\n",
    "bands, Bands = input(\"Filter the signal: Y/N \").upper(), False\n",
    "\n",
    "if bands==\"N\": bands = \"w\"\n",
    "elif bands==\"Y\": \n",
    "    Bands = True\n",
    "    mn = int(input(\"Set band range min: \"))\n",
    "    mx = int(input(\"Set band range max: \"))\n",
    "    bands = (mn,mx)\n",
    "\n",
    "method_code = {'1':\"PEC\", '2':\"SC_\", '3':\"PLV\", '4':\"PLI\", '5':\"CC\", '6':\"PAC\"}   \n",
    "woi_code = {'1':\"baseline\", '2':\"preseizure5\", '3':\"preseizure4\", '4':\"preseizure3\", '5':\"preseizure2\", '6':\"preseizure1\", '7':\"transition1\", '8':\"transition2\", '9':\"transition60\", '10':\"seizure\"}"
   ]
  },
  {
   "attachments": {},
   "cell_type": "markdown",
   "metadata": {},
   "source": [
    "##### Defining path to the EDF file. Filename format should be: patientacronym*-baseline.EDF or patientacronym*-seizure.EDF (asterix signifies a regular expression for any string of choice).\n",
    "##### Subject identifier is saved as a three-letter acronym. "
   ]
  },
  {
   "cell_type": "code",
   "execution_count": 40,
   "metadata": {},
   "outputs": [
    {
     "name": "stdout",
     "output_type": "stream",
     "text": [
      "Subject ID: ASJ\n"
     ]
    }
   ],
   "source": [
    "file_baseline = main_folder + \"data/ASJ2016APR14-PAc-baseline.EDF\"\n",
    "file_seizure = main_folder + \"data/ASJ2016APR14-PAc-seizure.EDF\"\n",
    "\n",
    "subject_id = file_seizure.split(\"/\")[-1][0:3]\n",
    "print(\"Subject ID:\", subject_id)"
   ]
  },
  {
   "attachments": {},
   "cell_type": "markdown",
   "metadata": {},
   "source": [
    "##### Connectivity will be measured in epochs of data and later classified between baseline and a window of interest (WOI).\n",
    "##### The WOI is fragmented into epochs of 1 second (span), with half-second overlaps (step). \n",
    "##### To keep the dataset balanced, we considered a fixed number of epochs, irregardless of the WOI duration. This number was fixed to 119 epochs (60/0.5-1), which covers a 1-minute window using the pre-set span and step parameters. "
   ]
  },
  {
   "cell_type": "code",
   "execution_count": 41,
   "metadata": {},
   "outputs": [
    {
     "name": "stdout",
     "output_type": "stream",
     "text": [
      "Number of epochs to consider for classification = 119\n"
     ]
    }
   ],
   "source": [
    "span, step = 1000, 500      # in ms\n",
    "min_woi_duration = 60000    # in ms\n",
    "n_epochs = int((min_woi_duration/step)-1)\n",
    "\n",
    "print(\"Number of epochs to consider for classification =\", n_epochs)\n",
    "\n",
    "eeg_seizure = EEG.from_file(file_seizure, epoch(ms(step), ms(span)))    # load raw seizure SEEG data as an EEG object (class) \n",
    "eeg_baseline = EEG.from_file(file_baseline, epoch(ms(step), ms(span)))   # load raw baseline SEEG data as an EEG object (class) "
   ]
  },
  {
   "attachments": {},
   "cell_type": "markdown",
   "metadata": {},
   "source": [
    "##### Consult the clinical annotations."
   ]
  },
  {
   "cell_type": "code",
   "execution_count": 42,
   "metadata": {},
   "outputs": [
    {
     "name": "stdout",
     "output_type": "stream",
     "text": [
      "Seizure file annotations:\n",
      "\n",
      " ['theta J13-15', 'Started Analyzer - Data Trends', 'Started Analyzer - XLEvent / ECG', 'LAFA A12-B12-C12', 'Montage:JUAN AGUSTIN SIERRA BIPOLAR (CON PLOT)', 'aplanamiento A,B, C,T, D, E, L', 'AUTOMATISMOS ORALES OROALIMENTARIOS', 'clÃ\\xadnica hipermotora', 'evol. beta-alfa', 'Started Analyzer - CSA', 'empieza posiciÃ³n distÃ³nica', 'EEG inicio', 'rotaciÃ³n sobre el propio eje', 'act. rapida LAFA en T5, D3-6, E3-6', 'ASJ2016APR14-PAc', 'XLSpike', 'giro oculocefÃ¡lico no forzado hacia la izquierda', 'parpadeo rÃ\\xadtmico', 'despertar, busca algo?', 'CLIP NBOA', 'theta P8-10, G8-10', 'theta J1-O1-F12, alfa F10-13', 'Started Analyzer - XLEvent - Intracranial', 'para la acciÃ³n', 'XLEvent', 'EEG fin']\n",
      "\n",
      "Baseline file annotations:\n",
      "\n",
      " ['Started Analyzer - CSA', 'Montage:JUAN AGUSTIN SIERRA BIPOLAR (TTL)', 'Started Analyzer - Data Trends', 'Started Analyzer - XLEvent / ECG', 'mitad-NS', 'ASJ2016APR14-PAc-NS', 'Started Analyzer - XLEvent - Intracranial', 'NS-fin', 'XLSpike']\n"
     ]
    }
   ],
   "source": [
    "print(\"Seizure file annotations:\\n\\n\", [note for note in eeg_seizure.notes])\n",
    "print(\"\\nBaseline file annotations:\\n\\n\", [note for note in eeg_baseline.notes])"
   ]
  },
  {
   "attachments": {},
   "cell_type": "markdown",
   "metadata": {},
   "source": [
    "##### Check file duration."
   ]
  },
  {
   "cell_type": "code",
   "execution_count": 43,
   "metadata": {},
   "outputs": [
    {
     "name": "stdout",
     "output_type": "stream",
     "text": [
      "Seizure file duration: 702 s\n",
      "Baseline file duration: 608 s\n"
     ]
    }
   ],
   "source": [
    "print(\"Seizure file duration:\", eeg_seizure.duration)\n",
    "print(\"Baseline file duration:\", eeg_baseline.duration)"
   ]
  },
  {
   "attachments": {},
   "cell_type": "markdown",
   "metadata": {},
   "source": [
    "##### Check nodes."
   ]
  },
  {
   "cell_type": "code",
   "execution_count": 44,
   "metadata": {},
   "outputs": [
    {
     "name": "stdout",
     "output_type": "stream",
     "text": [
      "Node J9-J10 removed from seizure file as not present in baseline file.\n",
      "\n",
      "Files now have the same nodes: True\n",
      "Number of nodes = 98\n",
      "['P1-P2', 'P4-P5', 'P8-P9', 'P9-P10', 'P10-P11', 'G1-G2', 'G8-G9', 'G9-G10', 'G10-G11', 'G11-G12', 'M1-M2', 'M8-M9', 'M9-M10', 'M10-M11', 'M11-M12', 'O1-O2', 'O2-O3', 'O5-O6', 'O6-O7', 'F1-F2', 'F7-F8', 'F8-F9', 'F9-F10', 'F10-F11', 'F11-F12', 'F12-F13', 'A1-A2', 'A2-A3', 'A3-A4', 'A7-A8', 'A8-A9', 'A9-A10', 'A10-A11', 'B1-B2', 'B2-B3', 'B5-B6', 'B6-B7', 'B7-B8', 'B8-B9', 'C1-C2', 'C5-C6', 'C6-C7', 'C7-C8', 'C8-C9', 'C9-C10', 'Q1-Q2', 'Q2-Q3', 'Q3-Q4', 'Q4-Q5', 'Q8-Q9', 'Q9-Q10', 'Q10-Q11', 'Q11-Q12', 'T1-T2', 'T2-T3', 'T3-T4', 'T4-T5', 'T5-T6', 'T6-T7', 'T7-T8', 'T8-T9', 'T9-T10', 'T10-T11', 'T11-T12', 'D1-D2', 'D2-D3', 'D3-D4', 'D4-D5', 'D5-D6', 'D6-D7', 'D7-D8', 'E1-E2', 'E2-E3', 'E3-E4', 'E4-E5', 'E5-E6', 'E6-E7', 'E7-E8', 'E8-E9', 'E9-E10', 'E10-E11', 'L1-L2', 'L2-L3', 'L5-L6', 'L6-L7', 'L7-L8', 'U1-U2', 'U2-U3', 'U3-U4', 'U4-U5', 'U5-U6', 'U6-U7', 'J1-J2', 'J10-J11', 'J11-J12', 'J12-J13', 'J13-J14', 'J14-J15']\n"
     ]
    }
   ],
   "source": [
    "# TODO: The code below is not redundant, double check for each patient and create a redundant version\n",
    "\n",
    "nodes_seizure = list(eeg_seizure.axes.region)\n",
    "nodes_baseline = list(eeg_baseline.axes.region)\n",
    "\n",
    "nodes=[]\n",
    "missing_node_ids=[]\n",
    "extra_nodes_in = None\n",
    "\n",
    "if nodes_seizure==nodes_baseline: nodes = nodes_seizure\n",
    "else:\n",
    "    if len(nodes_seizure)>len(nodes_baseline): \n",
    "        extra_nodes_in = \"seizure\"\n",
    "        missing_nodes, nodes = [node for node in nodes_seizure if node not in nodes_baseline], nodes_seizure\n",
    "        for missing in missing_nodes: \n",
    "            print(f\"Node {missing} removed from seizure file as not present in baseline file.\")\n",
    "            missing_node_ids.append(nodes.index(missing))\n",
    "            del nodes[nodes.index(missing)]\n",
    "            eeg_seizure.axes.region.remove(missing)\n",
    "    \n",
    "    elif len(nodes_seizure)<len(nodes_baseline): \n",
    "        extra_nodes_in = \"baseline\"\n",
    "        missing_nodes, nodes = [node for node in nodes_baseline if node not in nodes_seizure], nodes_baseline\n",
    "        for missing in missing_nodes: \n",
    "            for missing in missing_nodes: \n",
    "                print(f\"Node {missing} removed from baseline file as not present in seizure file.\")\n",
    "                missing_node_ids.append(nodes.index(missing))\n",
    "                del nodes[nodes.index(missing)]\n",
    "                eeg_baseline.axes.region.remove(missing)\n",
    "\n",
    "print(\"\\nFiles now have the same nodes:\", nodes_seizure==nodes_baseline)\n",
    "print(\"Number of nodes =\", len(nodes))\n",
    "print(nodes)"
   ]
  },
  {
   "attachments": {},
   "cell_type": "markdown",
   "metadata": {},
   "source": [
    "##### The raw signal will be resampled to 500 Hz."
   ]
  },
  {
   "cell_type": "code",
   "execution_count": 45,
   "metadata": {},
   "outputs": [
    {
     "name": "stdout",
     "output_type": "stream",
     "text": [
      "WARNING: The sampling frequency may have been incorrectly filed... Overwrite with data from subsmeta.xlsx table for now; check with Ale later\n",
      "Sampling freqency (seizure file) = 500\n",
      "Sampling freqency (baseline file) = 500\n"
     ]
    }
   ],
   "source": [
    "# check sampling\n",
    "\n",
    "if eeg_baseline.fs == 50 and eeg_seizure.fs == 50: \n",
    "    \n",
    "    print(\"WARNING: The sampling frequency may have been incorrectly filed... Overwrite with data from subsmeta.xlsx table for now; check with Ale later\")\n",
    "    eeg_seizure._set(fs = 500)\n",
    "    eeg_baseline._set(fs = 500)\n",
    "\n",
    "print(\"Sampling freqency (seizure file) =\", eeg_seizure.fs)\n",
    "print(\"Sampling freqency (baseline file) =\", eeg_baseline.fs)\n",
    "\n",
    "fs_min = min(eeg_seizure.fs, eeg_baseline.fs)\n",
    "\n",
    "# set the resampled frequency to 500 Hz if sampling is not already 512 Hz\n",
    "resampling = 512 if fs_min==512 else 500"
   ]
  },
  {
   "attachments": {},
   "cell_type": "markdown",
   "metadata": {},
   "source": [
    "##### Label the non-seizure (baseline) and seizure epochs relative to the position of clinical annotations (seizure start, seizure end). WOI is always defined relative to the seizure start. The baseline data is labeled independently.\n",
    "##### Baseline file has arbitrary annotations, \"EEG inicio\" in the middle point and \"EEG fin\" at the end. The annotations serve to split the recording into two halves, for computing the baseline connectivity change (change from the first half to the second half)"
   ]
  },
  {
   "cell_type": "code",
   "execution_count": 46,
   "metadata": {},
   "outputs": [
    {
     "data": {
      "text/plain": [
       "S at: [605.088 s]"
      ]
     },
     "execution_count": 46,
     "metadata": {},
     "output_type": "execute_result"
    }
   ],
   "source": [
    "SET(eeg_seizure, _as='N')                      # N - baseline (non-seizure)\n",
    "SET(eeg_seizure, 'EEG inicio', 'W')            # W - WOI\n",
    "SET(eeg_seizure, 'EEG fin', 'S', epoch.END)    # S - seizure\n",
    "\n",
    "SET(eeg_baseline, _as='N')\n",
    "SET(eeg_baseline, 'mitad-NS', 'W')            # W - middle point\n",
    "SET(eeg_baseline, 'NS-fin', 'S', epoch.END)    # S - terminal point (end of recording)"
   ]
  },
  {
   "attachments": {},
   "cell_type": "markdown",
   "metadata": {},
   "source": [
    "##### Optimize the positions of epochs relative to the clinical annotations."
   ]
  },
  {
   "cell_type": "code",
   "execution_count": 47,
   "metadata": {},
   "outputs": [
    {
     "name": "stdout",
     "output_type": "stream",
     "text": [
      "optimizing epoch position... best frame found at 0.000s with a mean delay of 0.000s\n",
      "optimizing epoch position... best frame found at 0.000s with a mean delay of 0.000s\n"
     ]
    }
   ],
   "source": [
    "eeg_seizure.optimize()\n",
    "eeg_seizure.remap()\n",
    "\n",
    "eeg_baseline.optimize()\n",
    "eeg_baseline.remap()"
   ]
  },
  {
   "attachments": {},
   "cell_type": "markdown",
   "metadata": {},
   "source": [
    "##### Save seizure duration as the number of epochs present between the clinical annotations of seizure start and end."
   ]
  },
  {
   "cell_type": "code",
   "execution_count": 48,
   "metadata": {},
   "outputs": [
    {
     "name": "stdout",
     "output_type": "stream",
     "text": [
      "Seizure length = 93.5 s\n"
     ]
    }
   ],
   "source": [
    "units = int((eeg_seizure.notes['EEG fin'][0].time - eeg_seizure.notes['EEG inicio'][0].time)*(span/step))\n",
    "print(\"Seizure length =\", units/2, \"s\")"
   ]
  },
  {
   "attachments": {},
   "cell_type": "markdown",
   "metadata": {},
   "source": [
    "##### Introduce a virtual mask into the eeg object, which indicates the time window to which an epoch belongs to (baseline, WOI or seizure). WOI is defined relative to the seizure start."
   ]
  },
  {
   "cell_type": "code",
   "execution_count": 49,
   "metadata": {},
   "outputs": [],
   "source": [
    "if woi == \"1\":\n",
    "    woi_start = -units\n",
    "    woi_end = 0\n",
    "\n",
    "elif woi in [str(n) for n in [2,3,4,5,6]]:\n",
    "    woi_start = - int(woi_code[woi][-1])*n_epochs\n",
    "    woi_end = - (int(woi_code[woi][-1])-1)*n_epochs\n",
    "\n",
    "elif woi in [str(n) for n in [7,8]]:\n",
    "    woi_start = - int(round(int(woi_code[woi][-1])*60/2))\n",
    "    woi_end = - woi_start\n",
    "\n",
    "elif woi == \"9\":\n",
    "    woi_start = - int(round(units*.3))\n",
    "    woi_end = - woi_start\n",
    "\n",
    "elif woi == \"10\":\n",
    "    woi_start = -1\n",
    "    woi_end = 0\n",
    "\n",
    "eeg_seizure.tag(('W', 'S'), W=range(int(woi_start),int(woi_end),1), S=range(0,-units,-1))\n",
    "\n",
    "eeg_baseline.tag(('W', 'S'), W=range(int(woi_start),int(woi_end),1), S=range(0,-units,-1))"
   ]
  },
  {
   "attachments": {},
   "cell_type": "markdown",
   "metadata": {},
   "source": [
    "##### Fetch the WOI epochs."
   ]
  },
  {
   "cell_type": "code",
   "execution_count": null,
   "metadata": {},
   "outputs": [],
   "source": [
    "a, ai = eeg_seizure.sample.get('W', n_epochs)   \n",
    "b, bi = eeg_baseline.sample.get('W', n_epochs)   \n",
    "i = ai + bi                         \n",
    "x = a + b                         \n",
    "y = [0]*n_epochs + [1]*n_epochs\n",
    "\n",
    "print(\"Total number of epochs (seizure + baseline) =\", len(x))\n",
    "print(\"Epoch shape =\", a[0].shape)\n",
    "\n",
    "import matplotlib.pyplot as plt\n",
    "from random import randint\n",
    "\n",
    "j = randint(0, n_epochs-1)\n",
    "plt.figure(figsize=(3,3))\n",
    "plt.plot(a[j][0])\n",
    "plt.title(\"Epoch example (seizure file)\")\n",
    "plt.show()\n",
    "plt.figure(figsize=(3,3))\n",
    "plt.plot(b[j][0])\n",
    "plt.title(\"Epoch example (baseline file)\")\n",
    "plt.show()"
   ]
  },
  {
   "attachments": {},
   "cell_type": "markdown",
   "metadata": {},
   "source": [
    "##### Resample data."
   ]
  },
  {
   "cell_type": "code",
   "execution_count": null,
   "metadata": {},
   "outputs": [
    {
     "name": "stdout",
     "output_type": "stream",
     "text": [
      "Resampled to (99, 500)\n",
      "Resampled to (99, 500)\n"
     ]
    }
   ],
   "source": [
    "pp_seizure = [preprocess(eeg_seizure, ep, resampling) for i,ep in enumerate(x)] \n",
    "print(\"Resampled to\", pp_seizure[0].shape)\n",
    "\n",
    "pp_baseline = [preprocess(eeg_baseline, ep, resampling) for i,ep in enumerate(x)] \n",
    "print(\"Resampled to\", pp_baseline[0].shape)"
   ]
  },
  {
   "attachments": {},
   "cell_type": "markdown",
   "metadata": {},
   "source": [
    "##### Filter in the set frequency band, if needed."
   ]
  },
  {
   "cell_type": "code",
   "execution_count": null,
   "metadata": {},
   "outputs": [],
   "source": [
    "fpp_seizure = [band(e, bands, pp_seizure[0].shape[1]) for e in pp_seizure] if Bands else pp_seizure\n",
    "fpp_baseline = [band(e, bands, pp_baseline[0].shape[1]) for e in pp_baseline] if Bands else pp_baseline"
   ]
  },
  {
   "cell_type": "code",
   "execution_count": null,
   "metadata": {},
   "outputs": [
    {
     "name": "stderr",
     "output_type": "stream",
     "text": [
      "/tmp/ipykernel_1105866/4254448501.py:1: VisibleDeprecationWarning: Creating an ndarray from ragged nested sequences (which is a list-or-tuple of lists-or-tuples-or ndarrays with different lengths or shapes) is deprecated. If you meant to do this, you must specify 'dtype=object' when creating the ndarray.\n",
      "  cm = struct(x=np.array(x), y=np.array(y), i=np.array(i)) # initiating an object for storing a connecivity matrix with shape (x, y) and epoch indices\n"
     ]
    },
    {
     "name": "stdout",
     "output_type": "stream",
     "text": [
      "Connectivity Analysis: phaselag\n",
      "0: completed \n",
      "1: completed \n",
      "2: completed \n",
      "3: completed \n",
      "4: completed \n",
      "5: completed \n",
      "6: completed \n",
      "7: completed \n",
      "8: completed \n",
      "9: completed \n",
      "10: completed \n",
      "11: completed \n",
      "12: completed \n",
      "13: completed \n",
      "14: completed \n",
      "15: completed \n",
      "16: completed \n",
      "17: completed \n",
      "18: completed \n",
      "19: completed \n",
      "20: completed \n",
      "21: completed \n",
      "22: completed \n",
      "23: completed \n",
      "24: completed \n",
      "25: completed \n",
      "26: completed \n",
      "27: completed \n",
      "28: completed \n",
      "29: completed \n",
      "30: completed \n",
      "31: completed \n",
      "32: completed \n",
      "33: completed \n",
      "34: completed \n",
      "35: completed \n",
      "36: completed \n",
      "37: completed \n",
      "38: completed \n",
      "39: completed \n",
      "40: completed \n",
      "41: completed \n",
      "42: completed \n",
      "43: completed \n",
      "44: completed \n",
      "45: completed \n",
      "46: completed \n",
      "47: completed \n",
      "48: completed \n",
      "49: completed \n",
      "50: completed \n",
      "51: completed \n",
      "52: completed \n",
      "53: completed \n",
      "54: completed \n",
      "55: completed \n",
      "56: completed \n",
      "57: completed \n",
      "58: completed \n",
      "59: completed \n",
      "60: completed \n",
      "61: completed \n",
      "62: completed \n",
      "63: completed \n",
      "64: completed \n",
      "65: completed \n",
      "66: completed \n",
      "67: completed \n",
      "68: completed \n",
      "69: completed \n",
      "70: completed \n",
      "71: completed \n",
      "72: completed \n",
      "73: completed \n",
      "74: completed \n",
      "75: completed \n",
      "76: completed \n",
      "77: completed \n",
      "78: completed \n",
      "79: completed \n",
      "80: completed \n",
      "81: completed \n",
      "82: completed \n",
      "83: completed \n",
      "84: completed \n",
      "85: completed \n",
      "86: completed \n",
      "87: completed \n",
      "88: completed \n",
      "89: completed \n",
      "90: completed \n",
      "91: completed \n",
      "92: completed \n",
      "93: completed \n",
      "94: completed \n",
      "95: completed \n",
      "96: completed \n",
      "97: completed \n",
      "98: completed \n",
      "99: completed \n",
      "100: completed \n",
      "101: completed \n",
      "102: completed \n",
      "103: completed \n",
      "104: completed \n",
      "105: completed \n",
      "106: completed \n",
      "107: completed \n",
      "108: completed \n",
      "109: completed \n",
      "110: completed \n",
      "111: completed \n",
      "112: completed \n",
      "113: completed \n",
      "114: completed \n",
      "115: completed \n",
      "116: completed \n",
      "117: completed \n",
      "118: completed \n",
      "119: completed \n",
      "120: completed \n",
      "121: completed \n",
      "122: completed \n",
      "123: completed \n",
      "124: completed \n",
      "125: completed \n",
      "126: completed \n",
      "127: completed \n",
      "128: completed \n",
      "129: completed \n",
      "130: completed \n",
      "131: completed \n",
      "132: completed \n",
      "133: completed \n",
      "134: completed \n",
      "135: completed \n",
      "136: completed \n",
      "137: completed \n",
      "138: completed \n",
      "139: completed \n",
      "140: completed \n",
      "141: completed \n",
      "142: completed \n",
      "143: completed \n",
      "144: completed \n",
      "145: completed \n",
      "146: completed \n",
      "147: completed \n",
      "148: completed \n",
      "149: completed \n",
      "150: completed \n",
      "151: completed \n",
      "152: completed \n",
      "153: completed \n",
      "154: completed \n",
      "155: completed \n",
      "156: completed \n",
      "157: completed \n",
      "158: completed \n",
      "159: completed \n",
      "160: completed \n",
      "161: completed \n",
      "162: completed \n",
      "163: completed \n",
      "164: completed \n",
      "165: completed \n",
      "166: completed \n",
      "167: completed \n",
      "168: completed \n",
      "169: completed \n",
      "170: completed \n",
      "171: completed \n",
      "172: completed \n",
      "173: completed \n",
      "174: completed \n",
      "175: completed \n",
      "176: completed \n",
      "177: completed \n",
      "178: completed \n",
      "179: completed \n",
      "180: completed \n",
      "181: completed \n",
      "182: completed \n",
      "183: completed \n",
      "184: completed \n",
      "185: completed \n",
      "186: completed \n",
      "187: completed \n",
      "188: completed \n",
      "189: completed \n",
      "190: completed \n",
      "191: completed \n",
      "192: completed \n",
      "193: completed \n",
      "194: completed \n",
      "195: completed \n",
      "196: completed \n",
      "197: completed \n",
      "198: completed \n",
      "199: completed \n",
      "200: completed \n",
      "201: completed \n",
      "202: completed \n",
      "203: completed \n",
      "204: completed \n",
      "205: completed \n",
      "206: completed \n",
      "207: completed \n",
      "208: completed \n",
      "209: completed \n",
      "210: completed \n",
      "211: completed \n",
      "212: completed \n",
      "213: completed \n",
      "214: completed \n",
      "215: completed \n",
      "216: completed \n",
      "217: completed \n",
      "218: completed \n",
      "219: completed \n",
      "220: completed \n",
      "221: completed \n",
      "222: completed \n",
      "223: completed \n",
      "224: completed \n",
      "225: completed \n",
      "226: completed \n",
      "227: completed \n",
      "228: completed \n",
      "229: completed \n",
      "230: completed \n",
      "231: completed \n",
      "232: completed \n",
      "233: completed \n",
      "234: completed \n",
      "235: completed \n",
      "236: completed \n",
      "237: completed \n",
      "Mismatched node index: 93\n"
     ]
    },
    {
     "data": {
      "image/png": "[encoded data removed]",
      "text/plain": [
       "<Figure size 500x500 with 1 Axes>"
      ]
     },
     "metadata": {},
     "output_type": "display_data"
    },
    {
     "name": "stdout",
     "output_type": "stream",
     "text": [
      "[[0.    0.604 0.572 ... 0.58  0.704 0.348]\n",
      " [0.    0.    0.548 ... 0.556 0.72  0.612]\n",
      " [0.    0.    0.    ... 0.64  0.644 0.604]\n",
      " ...\n",
      " [0.    0.    0.    ... 0.    0.652 0.612]\n",
      " [0.    0.    0.    ... 0.    0.    0.596]\n",
      " [0.    0.    0.    ... 0.    0.    0.   ]]\n",
      "Seizure CM shape = (98, 98)\n",
      "Baseline CM shape = (98, 98)\n"
     ]
    }
   ],
   "source": [
    "cm = struct(x=np.array(x), y=np.array(y), i=np.array(i)) # initiating an object for storing a connecivity matrix with shape (x, y) and epoch indices\n",
    "\n",
    "cm._set(nodes = nodes)\n",
    "\n",
    "if method_code[method_idx] == \"SC_\":\n",
    "    cm._set(X = connectivity_analysis(fpp_seizure, spectral_coherence, fs=fpp_seizure[0].shape[1], imag=imag))\n",
    "\n",
    "elif method_code[method_idx] == \"PEC\": \n",
    "    cm._set(X = [PEC(ep,i+1) for i,ep in enumerate(fpp_seizure)])\n",
    "\n",
    "elif method_code[method_idx] in \"PLV\":\n",
    "    cm._set(X = connectivity_analysis(fpp_seizure, phaselock))\n",
    "\n",
    "elif method_code[method_idx] == \"PLI\":\n",
    "    cm._set(X = connectivity_analysis(fpp_seizure, phaselag))\n",
    "\n",
    "elif method_code[method_idx] == \"CC\":\n",
    "    cm._set(X = connectivity_analysis(fpp_seizure, cross_correlation))\n",
    "\n",
    "elif method_code[method_idx] == \"PAC\":\n",
    "    cm._set(X = connectivity_analysis(fpp_seizure, PAC, True, fpp_seizure[0].shape[1]))\n",
    "\n",
    "if extra_nodes_in is not None:\n",
    "    for m in missing_node_ids:\n",
    "        print(\"Mismatched node index:\", m)\n",
    "        if extra_nodes_in==\"seizure\":\n",
    "            cm.X = exclude_from_sz_cm(cm.X, m)\n",
    "\n",
    "plt.figure(figsize=(5,5))\n",
    "plt.imshow(cm.X[-1], cmap='Blues', interpolation='nearest')\n",
    "plt.title(\"Connectivity matrix example\")\n",
    "plt.show()\n",
    "print(cm.X[-1])\n",
    "\n",
    "print(\"Seizure CM shape =\", cm.X[0].shape)\n",
    "print(\"Baseline CM shape =\", cm.X[-1].shape)"
   ]
  },
  {
   "cell_type": "code",
   "execution_count": null,
   "metadata": {},
   "outputs": [],
   "source": [
    "path_cm = main_folder + \"connectivity_matrices/\"\n",
    "makedirs(path_cm, exist_ok=True)\n",
    "\n",
    "if Bands:          rec(cm).save(path_cm + f\"{subject_id}-{woi_code[woi]}-{method_code[method_idx]}{ext}-{bands}.prep\".replace(\" \",\"\")) \n",
    "elif not Bands:    rec(cm).save(path_cm + f\"{subject_id}-{woi_code[woi]}-{method_code[method_idx]}{ext}.prep\") "
   ]
  }
 ],
 "metadata": {
  "kernelspec": {
   "display_name": "Python 3",
   "language": "python",
   "name": "python3"
  },
  "language_info": {
   "codemirror_mode": {
    "name": "ipython",
    "version": 3
   },
   "file_extension": ".py",
   "mimetype": "text/x-python",
   "name": "python",
   "nbconvert_exporter": "python",
   "pygments_lexer": "ipython3",
   "version": "3.10.6"
  },
  "orig_nbformat": 4,
  "vscode": {
   "interpreter": {
    "hash": "916dbcbb3f70747c44a77c7bcd40155683ae19c65e1c03b4aa3499c5328201f1"
   }
  }
 },
 "nbformat": 4,
 "nbformat_minor": 2
}
