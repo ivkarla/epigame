{
 "cells": [
  {
   "cell_type": "markdown",
   "metadata": {},
   "source": [
    "This notebook checks the EDF files from the \"Ext-val-edf\" directory and creates an Excel file with metadata:\n",
    "* SUB_ID\n",
    "* RECORDING_LENGHT\n",
    "* SEIZURE_LENGTH\n",
    "* PRESEIZURE_LENGTH\n",
    "* FS (Hz)\n",
    "* EVENT_CHANNEL (present or not)\n",
    "* NOTES (seizure onset and offset)"
   ]
  },
  {
   "cell_type": "code",
   "execution_count": null,
   "metadata": {},
   "outputs": [],
   "source": [
    "import pandas as pd\n",
    "\n",
    "# Sample data\n",
    "data = {\n",
    "    'SUB_ID': [],\n",
    "    'RECORDING_LEN': [],\n",
    "    'SEIZURE_LEN': [],\n",
    "    'PRESEIZURE_LEN': [],\n",
    "    'FS': [],\n",
    "    'EVENT_CH': [],\n",
    "    'NOTES': []\n",
    "}"
   ]
  },
  {
   "cell_type": "code",
   "execution_count": null,
   "metadata": {},
   "outputs": [],
   "source": [
    "# Define step and span for a 30-s window, to have 119 epochs in total\n",
    "span, step = 1000, 250      # in ms\n",
    "min_woi_duration = 30000    # in ms \n",
    "n_epochs = int((min_woi_duration/step)-1)"
   ]
  },
  {
   "cell_type": "code",
   "execution_count": null,
   "metadata": {},
   "outputs": [],
   "source": [
    "import os\n",
    "\n",
    "def parse_ext_val_edf_directory(edf_dir):\n",
    "    \"\"\"\n",
    "    Parse the 'Ext-val-edf' directory, load each EDF file using EEG.from_file.\n",
    "\n",
    "    Parameters:\n",
    "    - edf_dir (str): Path to the 'Ext-val-edf' directory.\n",
    "    - epoch_params (dict): Dictionary containing epoch parameters (ms step, ms span).\n",
    "    \"\"\"\n",
    "    for file_name in os.listdir(edf_dir):\n",
    "        if file_name.endswith(\".edf\"):\n",
    "            edf_file = os.path.join(edf_dir, file_name)\n",
    "\n",
    "            # Load raw seizure SEEG data as an EEG object\n",
    "            eeg_seizure = EEG.from_file(edf_file, epoch(ms(step), ms(span)))    # load raw seizure SEEG data as an EEG object (class)\n",
    "\n",
    "            sub_id = file_name.split('_')[0]\n",
    "            fs = eeg_seizure.fs\n",
    "\n",
    "\n",
    "edf_directory = '/home/kivi/Documents/Ext-val-edf/'\n",
    "\n",
    "# Call the parsing function\n",
    "parse_ext_val_edf_directory(edf_directory)"
   ]
  }
 ],
 "metadata": {
  "language_info": {
   "name": "python"
  }
 },
 "nbformat": 4,
 "nbformat_minor": 2
}
