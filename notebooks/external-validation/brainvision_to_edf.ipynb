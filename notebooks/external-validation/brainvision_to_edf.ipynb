{
 "cells": [
  {
   "cell_type": "markdown",
   "metadata": {},
   "source": [
    "This notebook automatizes the conversion of VHDR files to EDF files. "
   ]
  },
  {
   "cell_type": "code",
   "execution_count": null,
   "metadata": {},
   "outputs": [],
   "source": [
    "# from google.colab import drive\n",
    "# drive.mount('/content/gdrive')\n",
    "\n",
    "# main_folder = \"/content/gdrive/My Drive/epigame-folder/\"\n"
   ]
  },
  {
   "cell_type": "code",
   "execution_count": null,
   "metadata": {},
   "outputs": [],
   "source": [
    "# !pip install mne\n",
    "\n",
    "import mne"
   ]
  },
  {
   "cell_type": "code",
   "execution_count": null,
   "metadata": {},
   "outputs": [],
   "source": [
    "from datetime import datetime\n",
    "\n",
    "def format_datetime(raw_brainvision_file):\n",
    "    # Fetch the start date and time from the raw data's info dictionary\n",
    "    original_date_time = str(raw_brainvision_file.info['meas_date'])\n",
    "\n",
    "    parsed_date_time = datetime.strptime(original_date_time, \"%Y-%m-%d %H:%M:%S%z\")\n",
    "    iso8601_date_time = parsed_date_time.strftime(\"%Y-%m-%dT%H:%M:%S\")\n",
    "\n",
    "    print(original_date_time, \"converted to\", iso8601_date_time)\n",
    "\n",
    "    raw_brainvision_file.set_meas_date(iso8601_date_time)\n",
    "    \n",
    "    return raw_brainvision_file"
   ]
  },
  {
   "cell_type": "code",
   "execution_count": null,
   "metadata": {},
   "outputs": [],
   "source": [
    "import os\n",
    "import mne\n",
    "\n",
    "def convert_vhdr_to_edf(vhdr_file, output_dir):\n",
    "    \"\"\"\n",
    "    Converts a BrainVision VHDR file to EDF format using MNE library.\n",
    "\n",
    "    Parameters:\n",
    "    - vhdr_file (str): Path to the input VHDR file.\n",
    "    - output_dir (str): Directory to save the output EDF file.\n",
    "    \"\"\"\n",
    "    # Load data using MNE\n",
    "    raw = mne.io.read_raw_brainvision(vhdr_file, preload=True)\n",
    "\n",
    "    # Extract subject ID and run number from the filename\n",
    "    file_name = os.path.basename(vhdr_file)\n",
    "    subject_id = file_name.split('_')[0]\n",
    "    run_number = file_name.split('_')[-2]\n",
    "\n",
    "    # Export to EDF\n",
    "    edf_file = os.path.join(output_dir, f\"{subject_id}_{run_number}.edf\")\n",
    "    mne.export.export_raw(edf_file, raw, fmt='edf', overwrite=True)\n",
    "\n",
    "    print(f\"Converted {vhdr_file} to {edf_file}\")\n",
    "\n",
    "\n",
    "def parse_and_convert_data(root_dir, output_dir):\n",
    "    \"\"\"\n",
    "    Recursively parses the input directory, finds BrainVision VHDR files,\n",
    "    extracts subject ID and run number, and converts them to EDF format.\n",
    "\n",
    "    Parameters:\n",
    "    - root_dir (str): Path to the main directory containing \"sub-***\" subdirectories.\n",
    "    - output_dir (str): Directory to save the output EDF files.\n",
    "    \"\"\"\n",
    "    for subject_dir in os.listdir(root_dir):\n",
    "        subject_path = os.path.join(root_dir, subject_dir)\n",
    "\n",
    "        # Check if it's a \"sub-***\" directory\n",
    "        if os.path.isdir(subject_path) and subject_dir.startswith(\"sub-\"):\n",
    "            presurgery_path = os.path.join(subject_path, \"ses-presurgery\", \"ieeg\")\n",
    "\n",
    "            # Check if \"ses-presurgery/ieeg\" directory exists\n",
    "            if os.path.exists(presurgery_path) and os.path.isdir(presurgery_path):\n",
    "                for file in os.listdir(presurgery_path):\n",
    "                    # Check if the file is a BrainVision VHDR file\n",
    "                    if file.endswith(\".vhdr\"):\n",
    "                        vhdr_file = os.path.join(presurgery_path, file)\n",
    "                        convert_vhdr_to_edf(vhdr_file, output_dir)\n",
    "\n",
    "# Replace 'your_input_directory' and 'your_output_directory' with the actual paths\n",
    "input_directory = '/home/kivi/Documents/Ext-val/'\n",
    "output_directory = '/home/kivi/Documents/Ext-val-edf/'\n",
    "\n",
    "# Create output directory if it doesn't exist\n",
    "os.makedirs(output_directory, exist_ok=True)\n",
    "\n",
    "# Call the parser function\n",
    "parse_and_convert_data(input_directory, output_directory)\n"
   ]
  }
 ],
 "metadata": {
  "language_info": {
   "name": "python"
  }
 },
 "nbformat": 4,
 "nbformat_minor": 2
}
