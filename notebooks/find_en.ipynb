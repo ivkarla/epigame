{
 "cells": [
  {
   "cell_type": "code",
   "execution_count": null,
   "metadata": {},
   "outputs": [],
   "source": [
    "from src.eeg import struct\n",
    "from src.core import REc as rec\n",
    "from src.game import classify_epochs, evaluate_nodes, check_until\n",
    "\n",
    "from itertools import combinations\n",
    "from os import listdir, makedirs\n",
    "import matplotlib.pyplot as plt"
   ]
  },
  {
   "cell_type": "code",
   "execution_count": null,
   "metadata": {},
   "outputs": [],
   "source": [
    "main_folder = \"/home/kivi/gdrive/epigame-folder/\"\n",
    "\n",
    "path_cm = main_folder + \"connectivity_matrices/\" "
   ]
  },
  {
   "cell_type": "code",
   "execution_count": null,
   "metadata": {},
   "outputs": [],
   "source": [
    "woi = input(\"Time window:\\n 1. Non-seizure (baseline)\\n 2. Pre-seizure (5 min prior to seizure)\\n 3. Pre-seizure (4 min prior to seizure)\\n 4. Pre-seizure (3 min prior to seizure)\\n 5. Pre-seizure (2 min prior to seizure)\\n 6. Pre-seizure (1 min prior to seizure)\\n 7. Transition to seizure (1 min interval)\\n 8. Transition to seizure (2 min interval)\\n 9. Transition to seizure (60% seizure length interval)\\n 10. Seizure\\n Indicate a number: \")\n",
    "\n",
    "woi_code = {'1':\"baseline\", '2':\"preseizure5\", '3':\"preseizure4\", '4':\"preseizure3\", '5':\"preseizure2\", '6':\"preseizure1\", '7':\"transition1\", '8':\"transition2\", '9':\"transition60\", '10':\"seizure\"}"
   ]
  },
  {
   "cell_type": "code",
   "execution_count": null,
   "metadata": {},
   "outputs": [],
   "source": [
    "max_net_size = 20"
   ]
  },
  {
   "cell_type": "code",
   "execution_count": null,
   "metadata": {},
   "outputs": [],
   "source": [
    "path_net = main_folder + \"selected_network/\"\n",
    "makedirs(path_net, exist_ok=True)"
   ]
  },
  {
   "cell_type": "code",
   "execution_count": null,
   "metadata": {},
   "outputs": [],
   "source": [
    "for file_cm in listdir(path_cm):\n",
    "    print(\"Processing...\")\n",
    "    subject_id = file_cm.split(\"/\")[-1][0:3]\n",
    "    print(\"Connectivity matrices of\", file_cm)\n",
    "\n",
    "    cm = rec.load(path_cm + file_cm).data\n",
    "\n",
    "    print(\"\\nTotal number of epochs =\", len(cm.X))\n",
    "    print(\"Connectivity matrix shape =\", cm.X[0].shape)\n",
    "\n",
    "    plt.figure(figsize=(5,5))\n",
    "    plt.imshow(cm.X[-1], cmap='Blues', interpolation='nearest')\n",
    "    plt.show()\n",
    "    print(cm.X[-1])\n",
    "\n",
    "    nodes = cm.nodes\n",
    "    node_ids = list(range(len(nodes))) \n",
    "    print(\"Number of nodes =\",len(nodes))\n",
    "    print(\"\\nNodes:\", nodes)\n",
    "\n",
    "    node_pairs = combinations(node_ids, 2)\n",
    "\n",
    "    print(\"\\nProcessing node combinations...\")\n",
    "\n",
    "    parallelize = Parallel(n_jobs=-1)(delayed(evaluate_nodes)(pair, nodes, classify_epochs(cm, pair)) for pair in node_pairs)\n",
    "    base = [p for p in parallelize]\n",
    "\n",
    "    print(f\"{len(base)} finished\")\n",
    "\n",
    "    base.sort(key=lambda x:x[-1], reverse=True)\n",
    "    \n",
    "    print(f\"Best node pair: {base[0][1]}\")\n",
    "\n",
    "    best_score, net_size, possible_node_groups, nets = base[0][-1], 3, base[:], []\n",
    "\n",
    "    while net_size <= max_net_size:\n",
    "\n",
    "        print(f\"Checking networks with {net_size} nodes...\")\n",
    "\n",
    "        head = check_until(possible_node_groups)\n",
    "        tests = 0\n",
    "\n",
    "        for node_group in possible_node_groups[:head if head>0 else 1]:\n",
    "\n",
    "            for node in node_ids:\n",
    "\n",
    "                if node not in node_group[0]:\n",
    "\n",
    "                    test_group = node_group[0] + (node,)\n",
    "\n",
    "                    nets.append(evaluate_nodes(test_group, nodes, classify_epochs(cm, test_group)))\n",
    "\n",
    "                    tests += 1\n",
    "\n",
    "        print(f\"Tested {tests} node groups.\")\n",
    "\n",
    "        nets.sort(key=lambda x:x[-1], reverse=True)\n",
    "\n",
    "        print(f\"Best network: {nets[0][1]}\")\n",
    "\n",
    "        evaluation_score = nets[0][-1]\n",
    "\n",
    "        if evaluation_score >= best_score:\n",
    "\n",
    "            if net_size <= max_net_size:\n",
    "\n",
    "                best_score = nets[0][-1]\n",
    "                possible_node_groups = nets[:]\n",
    "                nets = []\n",
    "                               \n",
    "            net_size += 1\n",
    "            \n",
    "        else: break\n",
    "\n",
    "    selected_net = sorted(set([t for n in nets[:check_until(nets)] for t in n[1].split('<->')]))\n",
    "\n",
    "    print(f\"\\nSelected network: {selected_net} ({len(selected_net)} nodes in total)\")\n",
    "\n",
    "\n",
    "    file_net = file_cm.split(\".\")[1]\n",
    "    rec(struct(base=base, nets=nets, nodes=selected_net)).save(path_net + f\"{file_net}.res\")"
   ]
  }
 ],
 "metadata": {
  "kernelspec": {
   "display_name": "Python 3",
   "language": "python",
   "name": "python3"
  },
  "language_info": {
   "codemirror_mode": {
    "name": "ipython",
    "version": 3
   },
   "file_extension": ".py",
   "mimetype": "text/x-python",
   "name": "python",
   "nbconvert_exporter": "python",
   "pygments_lexer": "ipython3",
   "version": "3.10.6"
  },
  "orig_nbformat": 4,
  "vscode": {
   "interpreter": {
    "hash": "916dbcbb3f70747c44a77c7bcd40155683ae19c65e1c03b4aa3499c5328201f1"
   }
  }
 },
 "nbformat": 4,
 "nbformat_minor": 2
}
