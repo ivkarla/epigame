{
 "cells": [
  {
   "cell_type": "markdown",
   "metadata": {},
   "source": [
    "This notebook compares good and poor outcome patients based on the connectivity change scores (the cross-validation scores) from three different types of connections: EN-NN, EN-EN and NN-NN."
   ]
  },
  {
   "cell_type": "code",
   "execution_count": null,
   "metadata": {},
   "outputs": [],
   "source": [
    "import pandas as pd\n",
    "import numpy as np\n",
    "import matplotlib.pyplot as plt\n",
    "\n",
    "# from google.colab import drive\n",
    "# drive.mount('/content/gdrive')\n",
    "# main_folder = \"/content/gdrive/My Drive/epigame-folder/\"\n",
    "\n",
    "woi = \"preseizure1\"\n",
    "measure = 'CC-(0,4)'\n",
    "\n",
    "main_folder = \"/media/kivi/ADATA HV100/epigame-folder/\""
   ]
  },
  {
   "cell_type": "code",
   "execution_count": null,
   "metadata": {},
   "outputs": [],
   "source": [
    "df_beta = pd.read_csv(main_folder + \"cvs_pairs_preseizure1.csv\")\n",
    "df_gamma = pd.read_csv(main_folder + \"cvs_pairs_preseizure1_gamma.csv\")\n",
    "\n",
    "df = pd.concat([df_beta, df_gamma], ignore_index=True)\n",
    "\n",
    "df.columns\n",
    "# Exclude rows with \"PEC\" in \"CM\" column\n",
    "# df = df[df['CM'] != 'PEC']"
   ]
  },
  {
   "cell_type": "code",
   "execution_count": null,
   "metadata": {},
   "outputs": [],
   "source": [
    "connectivity_measures = list(df['CM'].unique())\n",
    "print(connectivity_measures)"
   ]
  },
  {
   "cell_type": "code",
   "execution_count": null,
   "metadata": {},
   "outputs": [],
   "source": [
    "df = df[df['CM'] == measure]"
   ]
  },
  {
   "cell_type": "code",
   "execution_count": null,
   "metadata": {},
   "outputs": [],
   "source": [
    "NODES = {\n",
    "\"1\":['P1-P2', 'P4-P5', 'P8-P9', 'P9-P10', 'P10-P11', 'G1-G2', 'G8-G9', 'G9-G10', 'G10-G11', 'G11-G12', 'M1-M2', 'M8-M9', 'M9-M10', 'M10-M11', 'M11-M12', 'O1-O2', 'O2-O3', 'O5-O6', 'O6-O7', 'F1-F2', 'F7-F8', 'F8-F9', 'F9-F10', 'F10-F11', 'F11-F12', 'F12-F13', 'A1-A2', 'A2-A3', 'A3-A4', 'A7-A8', 'A8-A9', 'A9-A10', 'A10-A11', 'B1-B2', 'B2-B3', 'B5-B6', 'B6-B7', 'B7-B8', 'B8-B9', 'C1-C2', 'C5-C6', 'C6-C7', 'C7-C8', 'C8-C9', 'C9-C10', 'Q1-Q2', 'Q2-Q3', 'Q3-Q4', 'Q4-Q5', 'Q8-Q9', 'Q9-Q10', 'Q10-Q11', 'Q11-Q12', 'T1-T2', 'T2-T3', 'T3-T4', 'T4-T5', 'T5-T6', 'T6-T7', 'T7-T8', 'T8-T9', 'T9-T10', 'T10-T11', 'T11-T12', 'D1-D2', 'D2-D3', 'D3-D4', 'D4-D5', 'D5-D6', 'D6-D7', 'D7-D8', 'E1-E2', 'E2-E3', 'E3-E4', 'E4-E5', 'E5-E6', 'E6-E7', 'E7-E8', 'E8-E9', 'E9-E10', 'E10-E11', 'L1-L2', 'L2-L3', 'L5-L6', 'L6-L7', 'L7-L8', 'U1-U2', 'U2-U3', 'U3-U4', 'U4-U5', 'U5-U6', 'U6-U7', 'J1-J2', 'J9-J10', 'J10-J11', 'J11-J12', 'J12-J13', 'J13-J14', 'J14-J15'],\n",
    "\"2\":['A1-A2', 'A2-A3', 'A3-A4', 'A4-A5', 'B1-B2', 'B2-B3', 'B3-B4', 'B4-B5', 'B5-B6', 'B6-B7', 'B7-B8', 'B8-B9', 'B9-B10', 'C1-C2', 'C2-C3', 'C3-C4', 'C4-C5', 'C5-C6', 'C6-C7', 'C7-C8', 'C8-C9', 'C9-C10', 'C10-C11', 'C11-C12', 'D1-D2', 'D2-D3', 'D3-D4', 'D4-D5', 'E1-E2', 'E2-E3', 'E3-E4', 'E4-E5', 'E5-E6', 'E6-E7', 'E7-E8', 'F1-F2', 'F2-F3', 'F3-F4', 'F4-F5', 'F5-F6', 'F6-F7', 'F7-F8'],\n",
    "\"3\":[\"T'1-T'2\", \"T'2-T'3\", \"T'3-T'4\", \"T'4-T'5\", \"T'5-T'6\", \"T'6-T'7\", \"T'7-T'8\", \"A'1-A'2\", \"A'2-A'3\", \"A'3-A'4\", \"A'4-A'5\", \"A'5-A'6\", \"A'6-A'7\", \"A'7-A'8\", \"A'8-A'9\", \"A'9-A'10\", \"B'1-B'2\", \"B'2-B'3\", \"B'3-B'4\", \"B'4-B'5\", \"B'5-B'6\", \"B'6-B'7\", \"B'7-B'8\", \"B'8-B'9\", \"B'9-B'10\", \"C'1-C'2\", \"C'2-C'3\", \"C'3-C'4\", \"C'4-C'5\", \"C'5-C'6\", \"C'6-C'7\", \"C'7-C'8\", \"C'8-C'9\", \"C'9-C'10\", \"C'10-C'11\", \"C'11-C'12\", \"E'1-E'2\", \"E'2-E'3\", \"E'3-E'4\", \"E'4-E'5\", \"E'5-E'6\", \"E'6-E'7\", \"E'7-E'8\", \"E'8-E'9\", \"E'9-E'10\", \"D'1-D'2\", \"D'2-D'3\", \"D'3-D'4\", \"D'4-D'5\", \"D'5-D'6\", \"D'6-D'7\", \"D'7-D'8\", \"D'8-D'9\", \"D'9-D'10\", \"D'10-D'11\", \"D'11-D'12\", \"W'1-W'2\", \"W'2-W'3\", \"W'3-W'4\", \"W'4-W'5\", \"W'5-W'6\", \"W'6-W'7\", \"W'7-W'8\", \"W'8-W'9\", \"W'9-W'10\", \"W'10-W'11\", \"W'11-W'12\", \"W'12-W'13\", \"W'13-W'14\", \"W'14-W'15\", \"K'1-K'2\", \"K'2-K'3\", \"K'3-K'4\", \"K'4-K'5\", \"K'5-K'6\", \"K'6-K'7\", \"K'7-K'8\", \"K'8-K'9\", \"K'9-K'10\", \"K'10-K'11\", \"K'11-K'12\", \"K'12-K'13\", \"K'13-K'14\", \"K'14-K'15\", \"P'1-P'2\", \"P'2-P'3\", \"P'3-P'4\", \"P'4-P'5\", \"P'5-P'6\", \"P'6-P'7\", \"P'7-P'8\", \"P'8-P'9\", \"P'9-P'10\", \"P'10-P'11\", \"P'11-P'12\", \"P'12-P'13\", \"P'13-P'14\", \"P'14-P'15\", \"L'1-L'2\", \"L'2-L'3\", \"L'3-L'4\", \"L'4-L'5\", \"L'5-L'6\", \"L'6-L'7\", \"L'7-L'8\", \"L'8-L'9\", \"L'9-L'10\", \"L'10-L'11\", \"L'11-L'12\", \"O'1-O'2\", \"O'2-O'3\", \"O'3-O'4\", \"O'4-O'5\", \"O'5-O'6\", \"O'6-O'7\", \"O'7-O'8\", \"O'8-O'9\", \"O'9-O'10\", \"O'10-O'11\", \"O'11-O'12\", \"X'1-X'2\", \"X'2-X'3\", \"X'3-X'4\", \"X'4-X'5\", \"X'5-X'6\", \"X'6-X'7\", \"X'7-X'8\", \"X'8-X'9\", \"X'9-X'10\", \"X'10-X'11\", \"X'11-X'12\", \"X'12-X'13\", \"X'13-X'14\", \"X'14-X'15\"],\n",
    "\"4\":['A1-A2', 'A2-A3', 'A3-A4', 'A4-A5', 'A5-A6', 'A6-A7', 'A7-A8', 'A8-A9', 'A9-A10', 'A10-A11', 'B1-B2', 'B2-B3', 'B3-B4', 'B4-B5', 'B5-B6', 'B6-B7', 'B7-B8', 'B11-B12', 'C1-C2', 'C2-C4', 'C4-C5', 'C5-C6', 'C6-C7', 'C7-C8', 'C8-C9', 'C9-C10', 'C10-C11', 'C11-C12', 'R1-R2', 'R2-R3', 'R3-R4', 'R4-R5', 'R5-R6', 'R6-R7', 'R7-R8', 'R8-R9', 'R9-R10', 'R10-R11', 'R11-R12', 'R12-R13', 'L1-L2', 'L2-L3', 'L3-L4', 'L4-L5', 'L5-L6', 'L6-L7', 'L7-L8', 'L8-L9', 'L9-L10', 'O1-O2', 'O2-O3', 'O3-O4', 'O4-O5', 'O5-O6', 'O6-O7', 'O7-O8', 'Q1-Q2', 'Q2-Q3', 'Q3-Q4', 'Q4-Q5', 'Q5-Q6', 'Q6-Q7', 'Q7-Q8', 'Q8-Q9', 'Q9-Q10', 'T1-T2', 'T2-T3', 'T3-T4', 'T4-T5', 'T5-T6', 'T6-T7', 'T7-T8', 'T8-T9', 'T9-T10', 'D1-D2', 'D2-D3', 'D3-D4', 'D4-D6', 'D6-D7', 'D7-D8', 'D8-D9', 'E1-E2', 'E2-E3', 'E3-E4', 'E4-E5', 'E5-E6', 'E6-E8', 'E8-E9', 'E9-E10', 'E10-E11', 'J1-J2', 'J2-J3', 'J6-J7', 'J7-J8', 'J8-J9', 'J9-J10', 'J10-J11', 'J11-J12', 'I1-I2', 'I2-I3', 'I3-I4', 'I4-I5', 'I5-I6', 'I6-I7', 'I7-I8', 'P4-P5', 'P5-P6', 'P6-P7', 'P7-P8', 'P8-P9', 'P9-P10'],\n",
    "\"5\":[\"A'1-A'2\", \"A'2-A'3\", \"A'3-A'4\", \"A'4-A'5\", \"A'5-A'6\", \"A'6-A'7\", \"A'7-A'8\", \"A'8-A'9\", \"A'9-A'10\", \"B'1-B'2\", \"B'2-B'3\", \"B'3-B'4\", \"B'4-B'5\", \"B'5-B'6\", \"B'6-B'7\", \"B'7-B'8\", \"B'8-B'9\", \"B'9-B'10\", \"B'10-B'11\", \"B'11-B'12\", \"C'1-C'2\", \"C'2-C'3\", \"C'3-C'4\", \"C'4-C'5\", \"C'5-C'6\", \"C'6-C'7\", \"C'7-C'8\", \"C'8-C'9\", \"C'9-C'10\", \"C'10-C'11\", \"C'11-C'12\", \"D'1-D'2\", \"D'2-D'3\", \"D'3-D'4\", \"D'4-D'5\", \"D'5-D'6\", \"D'6-D'7\", \"D'7-D'8\", \"F'1-F'2\", \"F'2-F'3\", \"F'3-F'4\", \"F'4-F'5\", \"F'5-F'6\", \"F'6-F'7\", \"F'7-F'8\", \"H'1-H'2\", \"H'2-H'3\", \"H'3-H'4\", \"H'4-H'5\", \"G'1-G'2\", \"G'2-G'3\", \"G'3-G'4\", \"G'4-G'5\", \"G'5-G'6\", \"G'6-G'7\", \"G'7-G'8\", \"G'8-G'9\", \"G'9-G'10\", \"G'10-G'11\", \"G'11-G'12\"],\n",
    "\"6\":['A1-A2', 'A2-A3', 'A3-A4', 'A4-A5', 'A5-A6', 'A6-A7', 'A7-A8', 'B1-B2', 'B2-B3', 'B3-B4', 'B4-B5', 'B5-B6', 'B6-B7', 'B7-B8', 'B8-B9', 'B9-B10', 'B10-B11', 'B11-B12', 'C1-C2', 'C2-C3', 'C3-C4', 'C4-C5', 'C5-C6', 'C6-C7', 'C7-C8', 'C8-C9', 'C9-C10', 'C10-C11', 'C11-C12', 'D1-D2', 'D2-D3', 'D3-D4', 'D4-D5', 'D5-D6', 'D6-D7', 'D7-D8', 'D8-D9', 'D9-D10', 'D10-D11', 'D11-D12', 'E1-E2', 'E2-E3', 'E3-E4', 'E4-E5', 'E5-E6', 'E6-E7', 'E7-E8', 'E8-E9', 'E9-E10', 'E10-E11', 'E11-E12', 'F1-F2', 'F2-F3', 'F3-F4', 'F4-F5', 'F5-F6', 'F6-F7', 'F7-F8', 'F8-F9', 'F9-F10', 'F10-F11', 'F11-F12', 'G1-G2', 'G2-G3', 'G3-G4', 'G4-G5', 'H1-H2', 'H2-H3', 'H3-H4', 'H4-H5', 'H5-H6', 'H6-H7', 'H7-H8', 'H8-H9', 'H9-H10', 'H10-H11', 'H11-H12', 'I1-I2', 'I2-I3', 'I3-I4', 'I4-I5', 'I5-I6', 'I6-I7', 'I7-I8', 'I8-I9', 'I9-I10', 'I10-I11', 'I11-I12', \"C'1-C'2\", \"C'2-C'3\", \"C'3-C'4\", \"C'4-C'5\", \"C'5-C'6\", \"C'6-C'7\", \"C'7-C'8\", \"C'8-C'9\", \"C'9-C'10\"],\n",
    "\"7\":['A1-A2', 'A2-A3', 'A3-A4', 'A4-A5', 'A5-A6', 'A6-A7', 'A7-A8', 'B1-B2', 'B2-B3', 'B3-B4', 'B4-B5', 'B5-B6', 'B6-B7', 'B7-B8', 'B8-B9', 'B9-B10', 'B10-B11', 'B11-B12', 'C1-C2', 'C2-C3', 'C3-C4', 'C4-C5', 'C5-C6', 'C6-C7', 'C7-C8', 'C8-C9', 'C9-C10', \"C'1-C'2\", \"C'2-C'3\", \"C'3-C'4\", \"C'4-C'5\", \"C'5-C'6\", \"C'6-C'7\", \"C'7-C'8\", \"C'8-C'9\", \"C'9-C'10\", \"C'10-C'11\", \"C'11-C'12\", 'D1-D2', 'D2-D3', 'D3-D4', 'D4-D5', 'D5-D6', 'D6-D7', 'D7-D8', 'E1-E2', 'E2-E3', 'E3-E4', 'E4-E5', 'E5-E6', 'E6-E7', 'E7-E8', 'E8-E9', 'E9-E10', 'F1-F2', 'F2-F3', 'F3-F4', 'F4-F5', 'F5-F6', 'F6-F7', 'F7-F8', 'F8-F9', 'F9-F10', 'F10-F11', 'F11-F12', 'G1-G2', 'G2-G3', 'G3-G4', 'G4-G5', 'G5-G6', 'G6-G7', 'G7-G8', 'G8-G9', 'G9-G10', 'H1-H2', 'H2-H3', 'H3-H4', 'H4-H5', 'H5-H6', 'H6-H7', 'H7-H8', 'I1-I2', 'I2-I3', 'I3-I4', 'I4-I5', 'I5-I6', 'I6-I7', 'I7-I8', 'I8-I9', 'I9-I10', 'I10-I11', 'I11-I12', 'J1-J2', 'J2-J3', 'J3-J4', 'J4-J5', 'J5-J6', 'J6-J7', 'J7-J8'],\n",
    "\"8\":[\"F'1-F'2\", \"F'2-F'3\", \"F'8-F'9\", \"F'9-F'10\", \"F'10-F'11\", \"F'11-F'12\", \"T'1-T'2\", \"T'2-T'3\", \"T'3-T'4\", \"T'4-T'5\", \"T'5-T'6\", \"T'6-T'7\", \"T'7-T'8\", \"T'8-T'9\", \"T'9-T'10\", \"A'1-A'2\", \"A'2-A'3\", \"A'3-A'4\", \"A'4-A'5\", \"A'5-A'6\", \"A'6-A'7\", \"A'7-A'8\", \"A'8-A'9\", \"A'9-A'10\", \"A'10-A'11\", \"A'11-A'12\", \"B'1-B'2\", \"B'2-B'3\", \"B'3-B'4\", \"B'4-B'5\", \"B'8-B'9\", \"B'9-B'10\", \"B'10-B'11\", \"B'11-B'12\", \"C'1-C'2\", \"C'2-C'3\", \"C'3-C'4\", \"C'4-C'5\", \"C'5-C'6\", \"C'6-C'7\", \"C'7-C'8\", \"C'8-C'9\", \"C'9-C'10\", \"C'10-C'11\", \"D'1-D'2\", \"D'2-D'3\", \"D'3-D'4\", \"D'4-D'5\", \"D'5-D'6\", \"D'6-D'7\", \"D'7-D'8\", \"D'8-D'9\", \"D'9-D'10\", \"S'1-S'2\", \"S'2-S'3\", \"S'5-S'6\", \"S'6-S'7\", \"S'7-S'8\", \"S'8-S'9\", \"S'9-S'10\", \"S'10-S'11\", \"S'11-S'12\", \"S'12-S'13\", \"S'13-S'14\", \"I'1-I'2\", \"I'2-I'3\", \"I'3-I'4\", \"I'4-I'5\", \"I'5-I'6\", \"I'6-I'7\", \"I'7-I'8\", \"I'8-I'9\", \"I'9-I'10\", \"W'1-W'2\", \"W'2-W'3\", \"W'10-W'11\", \"W'11-W'12\", \"W'12-W'13\", \"W'13-W'14\", \"W'14-W'15\", \"W'15-W'16\", \"W'16-W'17\", \"W'17-W'18\", \"U'1-U'2\", \"U'2-U'3\", \"U'3-U'4\", \"U'4-U'5\", \"U'8-U'9\", \"U'9-U'10\", \"U'10-U'11\", \"U'11-U'12\", \"U'12-U'13\", \"U'13-U'14\", \"U'14-U'15\", \"O'1-O'2\", \"O'2-O'3\", \"O'3-O'4\", \"O'4-O'5\", \"O'5-O'6\", \"O'6-O'7\", \"O'7-O'8\", \"O'8-O'9\", \"O'9-O'10\", \"O'10-O'11\", \"O'11-O'12\", \"O'12-O'13\", \"O'13-O'14\", \"O'14-O'15\"],\n",
    "\"9\":['FC1-FC2', 'FC2-FC3', 'FC3-FC4', 'FC4-FC5', 'FC5-FC6', 'FC6-FC7', 'FC7-FC8', 'FC8-FC9', 'FC9-FC10', 'A1-A2', 'A2-A3', 'A3-A4', 'A4-A5', 'A5-A6', 'A6-A7', 'A7-A8', 'A8-A9', 'A9-A10', 'HAn1-HAn2', 'HAn2-HAnt3', 'HAnt3-HAnt4', 'HAnt4-HAnt5', 'HAnt5-HAnt6', 'HAnt6-HAnt7', 'HAnt7-HAnt8', 'HAnt8-HAnt9', 'HAnt9-HAnt10', 'HAnt10-Ref', 'HAnt11-Ref', 'HP1-HP2', 'HP2-HP3', 'HP3-HP4', 'HP4-HP5', 'HP5-HP6', 'HP6-HP7', 'HP7-HP8', 'HP8-HP9', 'HP9-HP10', 'TB1-TB2', 'TB2-TB3', 'TB3-TB4', 'TB4-TB5', 'TB5-TB6', 'TB6-TB7', 'TB7-TB8', 'TB8-TB9', 'TB9-TB10', 'TB10-TB11', 'TB11-TB12'],\n",
    "\"10\":['F1-F2', 'F2-F3', 'F3-F4', 'F4-F5', 'F5-F6', 'F6-F7', 'F7-F8', 'F8-F9', 'F9-F10', 'F10-F11', 'F11-F12', 'F12-F13', 'F13-F14', 'F14-F15', 'F15-F16', 'F16-F17', 'A1-A3', 'A3-A5', 'A5-A7', 'A7-A9', 'A9-A11', 'A11-A13', 'A13-A15', 'B1-B3', 'B3-B5', 'B5-B7', 'B7-B9', 'C1-C3', 'C3-C5', 'C5-C7', 'C7-C9', 'C9-C11', 'D1-D3', 'D3-D5', 'D5-D7', 'D7-D9', 'D9-D11', 'D11-D13', 'D13-D15', 'E1-E3', 'E3-E5', 'E5-E7', 'E7-E9', 'E9-E11', 'J1-J3', 'J3-J5', 'J5-J7', 'J7-J9', 'J9-J11', 'J11-J13', 'J13-J15', 'J15-J17', 'K1-K3', 'K3-K5', 'K5-K7', 'K7-K9', 'K9-K11', 'K11-K13', 'K13-K15', 'L1-L3', 'L3-L5', 'L5-L7', 'L7-L9', 'L9-L11', 'L11-L13', 'L13-L15', 'M1-M3', 'M3-M5', 'M5-M7', 'M7-M9', 'O1-O3', 'O3-O5', 'O5-O7', 'P1-P3', 'P3-P5', 'P5-P7', 'P7-P9', 'R1-R3', 'R3-R5', 'R5-R7', 'R7-R9', 'R9-R11', 'R11-R13', 'R13-R15', 'S1-S3', 'S3-S5', 'S5-S7', 'S7-S9', 'S9-S11', 'S11-S13', 'S13-S15', 'T1-T3', 'T3-T5', 'T5-T9', 'T9-T11'],\n",
    "\"11\":[\"R'1-R'2\", \"R'2-R'3\", \"R'9-R'10\", \"R'10-R'11\", \"R'11-R'12\", \"R'12-R'13\", \"R'13-R'14\", \"S'1-S'2\", \"S'2-S'3\", \"S'6-S'7\", \"P'1-P'2\", \"P'2-P'3\", \"P'3-P'4\", \"P'4-P'5\", \"P'7-P'8\", \"P'8-P'9\", \"M'1-M'2\", \"M'8-M'9\", \"M'9-M'10\", \"M'10-M'11\", \"M'13-M'14\", \"J'1-J'2\", \"J'7-J'8\", \"J'8-J'9\", \"J'9-J'10\", \"K'1-K'2\", \"K'2-K'3\", \"K'7-K'8\", \"K'8-K'9\", \"K'9-K'10\", \"L'2-L'3\", \"L'3-L'4\", \"L'4-L'5\", \"L'5-L'6\", \"B'1-B'2\", \"B'5-B'6\", \"B'6-B'7\", \"B'7-B'8\", \"B'8-B'9\", \"C'1-C'2\", \"C'2-C'3\", \"C'9-C'10\", \"C'10-C'11\", \"C'11-C'12\", \"O'4-O'5\", \"O'5-O'6\", \"O'6-O'7\", \"O'10-O'11\", \"O'11-O'12\", \"O'12-O'13\", \"Q'3-Q'4\", \"Q'4-Q'5\", \"Q'5-Q'6\", \"Q'6-Q'7\", \"Q'10-Q'11\", \"Q'11-Q'12\", 'S1-S2', 'S8-S9', 'S9-S10', 'S10-S11', 'P1-P2', 'P2-P3', 'P6-P7', 'P7-P8', 'K2-K3', 'K3-K4', 'K4-K5', 'L1-L2', 'L2-L3', 'L3-L4', 'L7-L8', 'J1-J2', 'J11-J12', 'J12-J13', 'J13-J14', 'C1-C2', 'C2-C3', 'C8-C9', 'C9-C10', 'Q1-Q2', 'Q2-Q3', 'Q3-Q4', 'Q12-Q13', 'Q13-Q14', 'O1-O2', 'O2-O3', 'O3-O4', 'O4-O5', 'O9-O10'],\n",
    "\"12\":[\"E'1-E'2\", \"E'2-E'3\", \"E'3-E'4\", \"E'4-E'5\", \"E'5-E'6\", \"E'6-E'7\", \"E'7-E'8\", \"E'10-E'11\", \"O'1-O'2\", \"O'2-O'3\", \"O'3-O'4\", \"O'4-O'5\", \"O'5-O'6\", \"O'6-O'7\", \"O'7-O'8\", \"O'8-O'9\", \"O'9-O'10\", \"O'10-O'11\", \"C'1-C'2\", \"C'2-C'3\", \"C'6-C'7\", \"C'7-C'8\", \"C'8-C'9\", \"C'9-C'10\", \"C'10-C'11\", \"T'1-T'2\", \"T'2-T'3\", \"T'8-T'9\", \"T'9-T'10\", \"T'10-T'11\", \"U'1-U'2\", \"U'4-U'5\", \"U'5-U'6\", \"U'8-U'9\", \"Q'1-Q'2\", \"Q'10-Q'11\", \"Q'11-Q'12\", \"Q'12-Q'13\", \"Q'13-Q'14\", \"Q'14-Q'15\", \"W'1-W'2\", \"W'6-W'7\", \"W'7-W'8\", \"W'8-W'9\", \"W'12-W'13\", \"W'13-W'14\", \"S'1-S'2\", \"S'8-S'9\", \"S'9-S'10\", \"S'10-S'11\", \"S'11-S'12\", \"P'1-P'2\", \"P'2-P'3\", \"P'3-P'4\", \"P'4-P'5\", \"P'5-P'6\", \"P'6-P'7\", \"P'7-P'8\", \"P'8-P'9\", 'T1-T2', 'T2-T3', 'T3-T4', 'T4-T5', 'T5-T6', 'T11-T12', 'O1-O2', 'O2-O3', 'O5-O6', 'O6-O7', 'O7-O8', 'O8-O9', 'O9-O10', 'O10-O11', 'U1-U2', 'U5-U6', 'U6-U7', 'W1-W2', 'W2-W3', 'W3-W4', 'W9-W10', 'W10-W11', 'W11-W12', 'W12-W13', 'Q1-Q2', 'Q2-Q3', 'Q6-Q7', 'Q7-Q8', 'Q13-Q14', 'Q14-Q15', 'P1-P2', 'P4-P5', 'P5-P6', 'P6-P7', 'P10-P11'],\n",
    "\"13\":['A1-A2', 'A2-A3', 'A3-A4', 'A4-A5', 'A5-A6', 'A6-A7', 'A7-A8', 'A8-A9', 'A9-A10', 'A10-A11', 'A11-A12', 'B1-B2', 'B2-B3', 'B3-B4', 'B4-B5', 'B5-B6', 'B6-B7', 'B7-B8', 'B8-B9', 'B9-B10', 'B10-B11', 'B11-B12', 'B12-B13', 'B13-B14', 'B14-B15', 'C1-C2', 'C2-C3', 'C3-C4', 'C4-C5', 'C5-C6', 'C6-C7', 'C7-C8', 'C8-C9', 'C9-C10', 'C10-C11', 'C11-C12', 'D1-D2', 'D2-D3', 'D3-D4', 'D4-D5', 'E1-E2', 'E2-E3', 'E3-E4', 'E4-E5', 'F1-F2', 'F2-F3', 'F3-F4', 'F4-F5', 'F5-F6', 'F6-F7', 'F7-F8', 'F8-F9', 'F9-F10', 'F10-F11', 'F11-F12', 'G1-G2', 'G2-G3', 'G3-G4', 'G4-G5', 'G5-G6', 'G6-G7', 'G7-G8', 'H1-H2', 'H2-H3', 'H3-H4', 'H4-H5', 'H5-H6', 'H6-H7', 'H7-H8', 'H8-H9', 'H9-H10', 'H10-H11', 'H11-H12', 'I1-I2', 'I2-I3', 'I3-I4', 'I4-I5', 'I5-I6', 'I6-I7', 'I7-I8', 'I8-I9', 'I9-I10', 'L1-L2', 'L2-L3', 'L3-L4', 'L4-L5', 'L5-L6', 'L6-L7', 'L7-L8'],\n",
    "\"14\":['A1-A2', 'A2-A3', 'A3-A4', 'A4-A5', 'A5-A6', 'A6-A7', 'B1-B2', 'B2-B3', 'B3-B4', 'B4-B5', 'B5-B6', 'B6-B7', 'B7-B8', 'B8-B9', 'B9-B10', 'B10-B11', 'C1-C2', 'C2-C3', 'C3-C4', 'C4-C5', 'C5-C6', 'C6-C7', 'C7-C8', 'C8-C9', 'C9-C10', 'D1-D2', 'D2-D3', 'D3-D4', 'D4-D5', 'D5-D6', 'D6-D7', 'D7-D8', 'D8-D9', 'D9-D10', 'D10-D11', 'E1-E2', 'E2-E3', 'E3-E4', 'E4-E5', 'E5-E6', 'E6-E7', 'E7-E8', 'E8-E9', 'F1-F2', 'F2-F3', 'F3-F4', 'F4-F5', 'F5-F6', 'F6-F7', 'F7-F8', 'F8-F9', 'F9-F10', 'G1-G2', 'G2-G3', 'G3-G4', 'G4-G5', 'H1-H2', 'H2-H3', 'H3-H4', 'H4-H5', 'H5-H6', 'H6-H7', 'H7-H8', \"G'1-G'2\", \"G'2-G'3\", \"G'3-G'4\", \"G'4-G'5\", \"C'1-C'2\", \"C'2-C'3\", \"C'3-C'4\", \"C'4-C'5\", \"C'5-C'6\", \"C'6-C'7\", \"C'7-C'8\", \"C'8-C'9\", \"C'9-C'10\"],\n",
    "\"15\":[\"A'1-A'2\", \"A'2-A'3\", \"A'6-A'7\", \"A'7-A'8\", \"B'1-B'2\", \"B'2-B'3\", \"B'3-B'4\", \"B'4-B'5\", \"B'5-B'6\", \"B'6-B'7\", \"B'7-B'8\", \"C'1-C'2\", \"C'6-C'7\", \"C'7-C'8\", \"C'8-C'9\", \"C'9-C'10\", \"E'1-E'2\", \"E'2-E'3\", \"E'5-E'6\", \"E'6-E'7\", \"E'7-E'8\", \"E'8-E'9\", \"T'1-T'2\", \"T'2-T'3\", \"T'3-T'4\", \"T'8-T'9\", \"T'9-T'10\", \"T'10-T'11\", \"T'11-T'12\", \"T'12-T'13\", \"T'13-T'14\", \"T'14-T'15\", \"J'1-J'2\", \"J'2-J'3\", \"J'3-J'4\", \"J'4-J'5\", \"J'12-J'13\", \"J'13-J'14\", \"J'14-J'15\", \"I'1-I'2\", \"I'2-I'3\", \"I'3-I'4\", \"I'8-I'9\", \"I'9-I'10\", \"I'10-I'11\", \"O'1-O'2\", \"O'6-O'7\", \"O'7-O'8\", \"O'8-O'9\", \"O'9-O'10\", \"O'10-O'11\", \"G'1-G'2\", \"G'2-G'3\", \"G'10-G'11\", \"G'11-G'12\", \"G'12-G'13\", \"G'13-G'14\", \"G'14-G'15\", \"Q'1-Q'2\", \"Q'6-Q'7\", \"Q'7-Q'8\", \"Q'8-Q'9\", \"Q'11-Q'12\", \"Q'12-Q'13\", \"P'1-P'2\", \"P'2-P'3\", \"P'3-P'4\", \"P'4-P'5\", \"P'5-P'6\", \"P'6-P'7\", \"P'7-P'8\", \"P'8-P'9\", \"P'9-P'10\", \"U'1-U'2\", \"U'5-U'6\", \"U'6-U'7\", \"U'7-U'8\", \"U'8-U'9\", \"M'1-M'2\", \"M'2-M'3\", \"M'3-M'4\", \"M'4-M'5\", \"M'7-M'8\", \"M'8-M'9\", \"M'9-M'10\", \"M'10-M'11\", \"M'11-M'12\", 'F1-F2', 'F7-F8', 'F8-F9', 'F9-F10', 'F10-F11', 'M1-M2', 'M2-M3', 'M3-M4', 'M12-M13', 'M13-M14'],\n",
    "\"16\":[\"F'1-F'2\", \"F'5-F'6\", \"F'8-F'9\", \"F'9-F'10\", \"M'1-M'2\", \"M'8-M'9\", \"M'9-M'10\", \"M'10-M'11\", \"M'11-M'12\", \"M'12-M'13\", \"M'13-M'14\", \"O'4-O'5\", \"O'5-O'6\", \"O'6-O'7\", \"Y'1-Y'2\", \"Y'2-Y'3\", \"Y'3-Y'4\", \"Y'4-Y'5\", \"Y'5-Y'6\", \"Y'6-Y'7\", \"Y'13-Y'14\", \"Y'14-Y'15\", \"Y'15-Y'16\", \"Y'16-Y'17\", \"I'1-I'2\", \"I'5-I'6\", \"I'6-I'7\", \"I'7-I'8\", \"U'1-U'2\", \"U'2-U'3\", \"U'3-U'4\", \"U'4-U'5\", \"U'5-U'6\", \"A'1-A'2\", \"A'7-A'8\", \"A'8-A'9\", \"A'9-A'10\", \"A'10-A'11\", \"B'1-B'2\", \"B'2-B'3\", \"B'8-B'9\", \"B'9-B'10\", \"B'10-B'11\", \"C'1-C'2\", \"C'2-C'3\", \"C'5-C'6\", \"C'6-C'7\", \"C'7-C'8\", \"C'10-C'11\", \"C'11-C'12\", \"D'1-D'2\", \"D'6-D'7\", \"D'7-D'8\", \"D'8-D'9\", \"E'2-E'3\", \"E'3-E'4\", \"E'4-E'5\", \"E'5-E'6\", \"E'6-E'7\", \"E'7-E'8\", \"E'8-E'9\", \"E'9-E'10\", \"E'10-E'11\", \"J'1-J'2\", \"J'8-J'9\", \"J'9-J'10\", \"J'10-J'11\", \"J'11-J'12\", \"J'12-J'13\", \"J'13-J'14\", \"J'14-J'15\", \"W'1-W'2\", \"W'11-W'12\", \"W'12-W'13\", \"W'13-W'14\", \"Q'1-Q'2\", \"Q'2-Q'3\", \"Q'6-Q'7\", \"Q'7-Q'8\", \"Q'8-Q'9\", \"Q'9-Q'10\", \"Q'10-Q'11\", 'A1-A2', 'A2-A3', 'A8-A9', 'A9-A10', 'A10-A11', 'B1-B2', 'B7-B8', 'B8-B9', 'C1-C2', 'C7-C8', 'C8-C9'],\n",
    "\"17\":['A1-A2', 'A2-A3', 'A3-A4', 'A4-A5', 'B1-B2', 'B2-B3', 'B3-B4', 'B4-B5', 'B5-B6', 'B6-B7', 'B7-B8', 'B8-B9', 'B9-B10', 'B10-B11', 'B11-B12', 'C1-C2', 'C2-C3', 'C3-C4', 'C4-C5', 'C5-C6', 'C6-C7', 'C7-C8', 'C8-C9', 'C9-C10', 'C10-C11', 'C11-C12', 'D1-D2', 'D2-D3', 'D3-D4', 'D4-D5', 'D5-D6', 'D6-D7', 'D7-D8', 'D8-D9', 'D9-D10', 'D10-D11', 'D11-D12', 'G1-G2', 'G2-G3', 'G3-G4', 'G4-G5', 'G5-G6', 'G6-G7', 'G7-G8', 'G8-G9', 'G9-G10', 'E1-E2', 'E2-E3', 'E3-E4', 'E4-E5', 'E5-E6', 'E6-E7', 'E7-E8', 'E8-E9', 'E9-E10', 'F1-F2', 'F2-F3', 'F3-F4', 'F4-F5', 'F5-F6', 'F6-F7', 'F7-F8', 'F8-F9', 'F9-F10', 'F10-F11', 'F11-F12', 'H1-H2', 'H2-H3', 'H3-H4', 'H4-H5', 'H5-H6', 'H6-H7', 'H7-H8', 'H8-H9', 'H9-H10', 'J1-J2', 'J2-J3', 'J3-J4', 'J4-J5', 'J5-J6', 'J6-J7', 'J7-J8', 'J8-J9', 'J9-J10', 'J10-J11', 'J11-J12', 'O1-O2', 'O2-O3', 'O3-O4', 'O4-O5', 'O5-O6', 'O6-O7', 'O7-O8', 'O8-O9', 'O9-O10', 'O10-O11', 'O11-O12', 'I1-I2', 'I2-I3', 'I3-I4', 'I4-I5', 'I5-I6', 'I6-I7', 'I7-I8', 'I8-I9', 'I9-I10', 'I10-I11', 'I11-I12', 'I12-I13', 'I13-I14', 'I14-I15', 'I15-I16', 'I16-I17', 'I17-I18'],\n",
    "\"18\":['F1-F2', 'F2-F3', 'F3-F4', 'F4-F5', 'F5-F6', 'F6-F7', 'F7-F8', 'S1-S2', 'S2-S3', 'S3-S4', 'S4-S5', 'S5-S6', 'S6-S7', 'S7-S8', 'S8-S9', 'S9-S10', 'S10-S11', 'S11-S12', 'H1-H2', 'H2-H3', 'H3-H4', 'H4-H5', 'H5-H6', 'H6-H7', 'H7-H8', 'M1-M2', 'M2-M3', 'M3-M4', 'M4-M5', 'M5-M6', 'M6-M7', 'M7-M8', 'U1-U2', 'U2-U3', 'U3-U4', 'U4-U5', 'U5-U6', 'U6-U7', 'U7-U8', 'A1-A2', 'A2-A3', 'A3-A4', 'A4-A5', 'A5-A6', 'A6-A7', 'A7-A8', 'A8-A9', 'A9-A10', 'A10-A11', 'A11-A12', 'A12-A13', 'A13-A14', 'A14-A15', 'B1-B2', 'B2-B3', 'B3-B4', 'B4-B5', 'B5-B6', 'B6-B7', 'B7-B8', 'B8-B9', 'B9-B10', 'J1-J2', 'J2-J3', 'J3-J4', 'J4-J5', 'J5-J6', 'J6-J7', 'J7-J8', 'J8-J9', 'J9-J10', 'O1-O2', 'O2-O3', 'O3-O4', 'O4-O5', 'O5-O6', 'O6-O7', 'O7-O8', 'O8-O9', 'O9-O10', 'O10-O11', 'O11-O12', 'O12-O13', 'O13-O14', 'O14-O15', 'T1-T2', 'T2-T3', 'T3-T4', 'T4-T5', 'T5-T6', 'T6-T7', 'T7-T8', 'T8-T9', 'T9-T10', 'L1-L2', 'L2-L3', 'L3-L4', 'L4-L5', 'L5-L6', 'L6-L7', 'L7-L8', 'L8-L9', 'L9-L10', 'P1-P2', 'P2-P3', 'P3-P4', 'P4-P5', 'P5-P6', 'P6-P7', 'P7-P8', 'P8-P9', 'P9-P10', 'P10-P11', 'P11-P12', 'P12-P13', 'P13-P14', 'P14-P15', 'Q1-Q2', 'Q2-Q3', 'Q3-Q4', 'Q4-Q5', 'Q5-Q6', 'Q6-Q7', 'Q7-Q8', 'Q8-Q9', 'Q9-Q10', 'Q10-Q11', 'Q11-Q12', 'Q12-Q13', 'Q13-Q14', 'Q14-Q15', 'X1-X2', 'X2-X3', 'X3-X4', 'X4-X5', 'X5-X6', 'X6-X7', 'X7-X8', 'X8-X9', 'X9-X10', 'C1-C2', 'C2-C3', 'C3-C4', 'C4-C5', 'C5-C6', 'C6-C7', 'C7-C8', 'Y1-Y2', 'Y2-Y3', 'Y3-Y4', 'Y4-Y5', 'Y5-Y6', 'Y6-Y7', 'Y7-Y8', 'Z1-Z2', 'Z2-Z3', 'Z3-Z4', 'Z4-Z5', 'Z5-Z6', 'Z6-Z7', 'Z7-Z8', 'Au1-Ref Au', 'Au2-Ref Au'],\n",
    "\"19\":['A1-A2', 'A2-A3', 'A3-A4', 'A4-A5', 'A5-A6', 'A6-A7', 'A7-A8', 'B1-B2', 'B2-B3', 'B3-B4', 'B4-B5', 'B5-B6', 'B6-B7', 'B7-B8', 'B8-B9', 'B9-B10', 'B10-B11', 'B11-B12', 'C1-C2', 'C2-C3', 'C3-C4', 'C4-C5', 'C5-C6', 'C6-C7', 'C7-C8', 'C8-C9', 'C9-C10', 'C10-C11', 'C11-C12', 'D1-D2', 'D2-D3', 'D3-D4', 'D4-D5', 'D5-D6', 'D6-D7', 'D7-D8', 'D8-D9', 'D9-D10', 'E1-E2', 'E2-E3', 'E3-E4', 'E4-E5', 'E5-E6', 'E6-E7', 'E7-E8', 'E8-E9', 'E9-E10', 'E10-E11', 'E11-E12', 'F1-F2', 'F2-F3', 'F3-F4', 'F4-F5'],\n",
    "\"20\":['A1-A2', 'A2-A3', 'A6-A7', 'A7-A8', 'A8-A9', 'A10-A11', 'A11-A12', 'B1-B2', 'B2-B3', 'B3-B4', 'B7-B8', 'B8-B9', 'B9-B10', 'B10-B11', 'C1-C2', 'C2-C3', 'C3-C4', 'C4-C5', 'C5-C6', 'C6-C7', 'C7-C8', 'C8-C9', 'C9-C10', 'C10-C11', 'C11-C12', 'D1-D2', 'D2-D3', 'D3-D4', 'D4-D5', 'D5-D6', 'D6-D7', 'D7-D8', 'D8-D9', 'D9-D10', 'D10-D11', 'D11-D12', 'J1-J2', 'J2-J3', 'J3-J4', 'J8-J9', 'J9-J10', 'J10-J11', 'J11-J12', 'J12-J13', 'J13-J14', 'J14-J15', 'K1-K2', 'K2-K3', 'K3-K4', 'K4-K5', 'K5-K6', 'K6-K7', 'K7-K8', 'K8-K9', 'K9-K10', 'K10-K11', 'K11-K12', 'K12-K13', 'K13-K14', 'P1-P2', 'P2-P3', 'P3-P4', 'P4-P5', 'P5-P6', 'P6-P7', 'P7-P8', 'P8-P9', 'P9-P10', 'P10-P11', 'P11-P12', 'O1-O2', 'O2-O3', 'O3-O4', 'O4-O5', 'O5-O6', 'O6-O7', 'O7-O8', 'F3-F4', 'F4-F5', 'F5-F6', 'F6-F7', 'F9-F10', 'F10-F11', 'F11-F12', \"A'1-A'2\", \"A'2-A'3\", \"A'3-A'4\", \"A'4-A'5\", \"A'8-A'9\", \"A'9-A'10\", \"A'10-A'11\", \"A'11-A'12\", \"B'1-B'2\", \"B'2-B'3\", \"B'3-B'4\", \"B'7-B'8\", \"B'8-B'9\", \"B'9-B'10\", \"C'1-C'2\", \"C'2-C'3\", \"C'3-C'4\", \"C'4-C'5\", \"C'5-C'6\", \"C'6-C'7\", \"C'7-C'8\", \"C'8-C'9\", \"C'9-C'10\"],\n",
    "\"21\":['X1-X2', 'X2-X3', 'X3-X4', 'X4-X5', 'X5-X6', 'X6-X7', 'X7-X8', 'X10-X11', 'X11-X12', 'X12-X13', 'X13-X14', 'X14-X15', 'X15-X16', 'X16-X17', 'X17-X18', 'I1-I2', 'I4-I5', 'I5-I6', 'I8-I9', 'I9-I10', 'A1-A2', 'A2-A3', 'A3-A4', 'A7-A8', 'A8-A9', 'A9-A10', 'A10-A11', 'T1-T2', 'T2-T3', 'T5-T6', 'T6-T7', 'T7-T8', 'T8-T9', 'E1-E2', 'E2-E3', 'E3-E4', 'E4-E5', 'E6-E7', 'E7-E8', 'E8-E9', 'B1-B2', 'B2-B3', 'B3-B4', 'B8-B9', 'B9-B10', 'B10-B11', 'C1-C2', 'C2-C3', 'C3-C4', 'C7-C8', 'C8-C9', 'C9-C10', 'C10-C11', 'D1-D2', 'D2-D3', 'D3-D4', 'D4-D5', 'D8-D9', 'D9-D10', 'D10-D11', 'S1-S2', 'S2-S3', 'S3-S4', 'S4-S5', 'S12-S13', 'S13-S14', 'S14-S15', 'S15-S16', 'S16-S17', 'Q1-Q2', 'Q2-Q3', 'Q3-Q4', 'Q9-Q10', 'Q10-Q11', 'Q11-Q12', 'Q12-Q13', 'Q13-Q14', 'O1-O2', 'O2-O3', 'O3-O4', 'O4-O5', 'O5-O6', 'O6-O7', 'O7-O8', 'O8-O9', 'O9-O10', 'O10-O11', 'O11-O12', 'P1-P2', 'P2-P3', 'P3-P4', 'P4-P5', 'P5-P6', 'P11-P12', 'P12-P13', 'P13-P14', 'P14-P15']\n",
    "}\n",
    "\n",
    "RESECTION = {1: ['T9-T10', 'T4-T5', 'B6-B7', 'B2-B3', 'D4-D5', 'D2-D3', 'T6-T7', 'B1-B2', 'T10-T11', 'T11-T12', 'T3-T4', 'T8-T9', 'T7-T8', 'A3-A4', 'T1-T2', 'T5-T6', 'T2-T3', 'B5-B6', 'D3-D4'], 2: ['A1-A2', 'B2-B3', 'B6-B7', 'A2-A3', 'B1-B2', 'C2-C3', 'C7-C8', 'B8-B9', 'B4-B5', 'C9-C10', 'A3-A4', 'C3-C4', 'B7-B8', 'C1-C2', 'C5-C6', 'C8-C9', 'A4-A5', 'C6-C7', 'C4-C5', 'B5-B6', 'B9-B10', 'B3-B4'], 3: [\"D'8-D'9\", \"D'11-D'12\", \"W'14-W'15\", \"P'12-P'13\", \"L'9-L'10\", \"L'11-L'12\", \"O'9-O'10\", \"O'10-O'11\", \"K'13-K'14\", \"O'11-O'12\", \"D'6-D'7\", \"L'10-L'11\", \"P'13-P'14\", \"D'9-D'10\", \"W'13-W'14\", \"P'14-P'15\", \"K'12-K'13\", \"D'7-D'8\"], 4: ['A10-A11', 'P7-P8', 'P9-P10', 'O4-O5', 'Q8-Q9', 'E2-E3', 'E9-E10', 'P6-P7', 'L1-L2', 'E4-E5', 'L4-L5', 'Q7-Q8', 'J7-J8', 'C9-C10', 'J8-J9', 'O6-O7', 'P8-P9', 'C11-C12', 'E3-E4', 'I6-I7', 'J9-J10', 'B11-B12', 'L2-L3', 'O5-O6', 'O3-O4', 'J10-J11', 'Q3-Q4', 'C10-C11', 'E10-E11', 'P5-P6', 'J6-J7', 'J11-J12', 'J1-J2', 'Q4-Q5', 'I7-I8', 'A9-A10', 'L3-L4', 'Q9-Q10'], 5: [\"D'4-D'5\", \"D'2-D'3\", \"D'3-D'4\", \"D'1-D'2\", \"B'1-B'2\", \"D'6-D'7\", \"D'5-D'6\", \"D'7-D'8\"], 6: ['C1-C2', 'C4-C5', 'C2-C3', 'C3-C4'], 7: ['F11-F12', 'G5-G6', 'E1-E2', 'F8-F9', 'A1-A2', 'B2-B3', 'B6-B7', 'A2-A3', 'D4-D5', 'D2-D3', 'E2-E3', 'E9-E10', 'G7-G8', 'C2-C3', 'G9-G10', 'G2-G3', 'E4-E5', 'G6-G7', 'A5-A6', 'D1-D2', 'G8-G9', 'C7-C8', 'E8-E9', 'I8-I9', 'B8-B9', 'B4-B5', 'F7-F8', 'F9-F10', 'H7-H8', 'J7-J8', 'A7-A8', 'C9-C10', 'D5-D6', 'H4-H5', 'H5-H6', 'D7-D8', 'B10-B11', 'A3-A4', 'E6-E7', 'G1-G2', 'E3-E4', 'A6-A7', 'B7-B8', 'C1-C2', 'C3-C4', 'C5-C6', 'F10-F11', 'G3-G4', 'H2-H3', 'H3-H4', 'B11-B12', 'E5-E6', 'D6-D7', 'C8-C9', 'I11-I12', 'J6-J7', 'F6-F7', 'A4-A5', 'C6-C7', 'C4-C5', 'E7-E8', 'G4-G5', 'I7-I8', 'B5-B6', 'D3-D4', 'B9-B10', 'I9-I10', 'I10-I11', 'B3-B4', 'H6-H7'], 8: [\"T'7-T'8\", \"D'2-D'3\", \"A'3-A'4\", \"T'6-T'7\", \"A'6-A'7\", \"D'4-D'5\", \"A'7-A'8\", \"T'2-T'3\", \"A'1-A'2\", \"A'5-A'6\", \"A'8-A'9\", \"D'5-D'6\", \"A'2-A'3\", \"D'8-D'9\", \"A'4-A'5\", \"T'5-T'6\", \"D'3-D'4\", \"T'4-T'5\", \"D'7-D'8\", \"T'1-T'2\", \"T'3-T'4\", \"D'1-D'2\"], 9: ['A3-A4', 'TB5-TB6', 'A8-A9', 'TB4-TB5', 'A4-A5', 'A6-A7', 'TB6-TB7', 'A1-A2', 'A2-A3', 'A7-A8', 'TB2-TB3', 'A9-A10', 'TB1-TB2', 'A5-A6', 'TB3-TB4'], 10: ['F11-F12', 'F6-F7', 'F4-F5', 'F13-F14', 'F5-F6', 'F12-F13', 'F1-F2', 'F8-F9', 'F7-F8', 'O1-O3', 'F2-F3', 'T3-T5', 'O3-O5', 'F3-F4', 'T5-T9'], 11: [\"O'5-O'6\", \"O'4-O'5\", \"M'1-M'2\", \"J'8-J'9\", \"Q'5-Q'6\", \"P'4-P'5\", \"K'9-K'10\", \"P'7-P'8\", \"P'1-P'2\", \"O'6-O'7\", \"Q'4-Q'5\", \"S'6-S'7\", \"K'8-K'9\", \"R'2-R'3\", \"J'7-J'8\", \"J'9-J'10\", \"P'8-P'9\", \"Q'3-Q'4\", \"K'1-K'2\", \"K'7-K'8\", \"J'1-J'2\"], 12: ['O10-O11'], 13: ['F11-F12', 'F4-F5', 'I3-I4', 'F8-F9', 'B2-B3', 'B6-B7', 'F2-F3', 'I2-I3', 'B1-B2', 'C2-C3', 'C7-C8', 'I8-I9', 'B4-B5', 'F7-F8', 'F9-F10', 'H4-H5', 'H5-H6', 'I4-I5', 'F3-F4', 'I1-I2', 'I5-I6', 'F5-F6', 'C3-C4', 'B7-B8', 'H8-H9', 'I6-I7', 'C5-C6', 'F10-F11', 'H3-H4', 'C8-C9', 'F6-F7', 'C6-C7', 'C4-C5', 'I7-I8', 'B5-B6', 'H7-H8', 'B3-B4', 'H6-H7'], 14: ['E6-E7', 'E8-E9', 'E1-E2', 'E7-E8', 'E5-E6'], 15: [\"J'13-J'14\", \"T'1-T'2\", \"J'2-J'3\", \"J'12-J'13\", \"T'2-T'3\", \"T'14-T'15\", \"T'13-T'14\", \"J'1-J'2\", \"J'14-J'15\", \"J'3-J'4\"], 16: [\"B'9-B'10\", \"D'8-D'9\", \"E'2-E'3\", \"A'7-A'8\", \"D'1-D'2\", \"B'1-B'2\", \"A'1-A'2\", \"A'10-A'11\", \"D'6-D'7\", \"A'8-A'9\", \"B'10-B'11\", \"A'9-A'10\", \"D'7-D'8\"], 17: ['I3-I4', 'E1-E2', 'A1-A2', 'B2-B3', 'B6-B7', 'A2-A3', 'E2-E3', 'I2-I3', 'B1-B2', 'C2-C3', 'E4-E5', 'B8-B9', 'B4-B5', 'I4-I5', 'I1-I2', 'B10-B11', 'A3-A4', 'E6-E7', 'E3-E4', 'C3-C4', 'B7-B8', 'C1-C2', 'C5-C6', 'E5-E6', 'C6-C7', 'C4-C5', 'B5-B6', 'B9-B10', 'B3-B4'], 18: ['A10-A11', 'P7-P8', 'P9-P10', 'P4-P5', 'S3-S4', 'O13-O14', 'Q8-Q9', 'T4-T5', 'P6-P7', 'T6-T7', 'Y6-Y7', 'Q10-Q11', 'X5-X6', 'T7-T8', 'Q7-Q8', 'X4-X5', 'H4-H5', 'A7-A8', 'H5-H6', 'P8-P9', 'A8-A9', 'F5-F6', 'A6-A7', 'H2-H3', 'S9-S10', 'J2-J3', 'S5-S6', 'H3-H4', 'C3-C4', 'C5-C6', 'S10-S11', 'Y3-Y4', 'A11-A12', 'Y4-Y5', 'X3-X4', 'Q12-Q13', 'Q13-Q14', 'T5-T6', 'H1-H2', 'P5-P6', 'Y2-Y3', 'Y7-Y8', 'Y5-Y6', 'F6-F7', 'X6-X7', 'C6-C7', 'C4-C5', 'J1-J2', 'Q9-Q10', 'S4-S5', 'O12-O13', 'H7-H8', 'O11-O12', 'Q11-Q12', 'P3-P4', 'H6-H7'], 19: ['A1-A2', 'B2-B3', 'B6-B7', 'A2-A3', 'B1-B2', 'C2-C3', 'A5-A6', 'D1-D2', 'B8-B9', 'B4-B5', 'B10-B11', 'A3-A4', 'C3-C4', 'B7-B8', 'C1-C2', 'C5-C6', 'B11-B12', 'A4-A5', 'C4-C5', 'B5-B6', 'B9-B10', 'B3-B4'], 20: ['A6-A7', 'A1-A2', 'B2-B3', 'A2-A3', 'A7-A8', 'B1-B2', 'B3-B4'], 21: ['A10-A11', 'E1-E2', 'A1-A2', 'B2-B3', 'A2-A3', 'E2-E3', 'T6-T7', 'E4-E5', 'D1-D2', 'T8-T9', 'E8-E9', 'T7-T8', 'A7-A8', 'B10-B11', 'A3-A4', 'E6-E7', 'A8-A9', 'E3-E4', 'T1-T2', 'T5-T6', 'T2-T3', 'E7-E8', 'A9-A10', 'B3-B4']}\n",
    "\n",
    "subs = list(range(1,22))\n",
    "poor_outcome_subjects = [3,6,10,11,17,18]\n",
    "good_outcome_subjects = [s for s in subs if s not in poor_outcome_subjects+[12]]\n"
   ]
  },
  {
   "cell_type": "code",
   "execution_count": null,
   "metadata": {},
   "outputs": [],
   "source": [
    "# Add a new column based on the criteria\n",
    "df['Outcome'] = df['Subject'].apply(lambda x: 1 if x not in poor_outcome_subjects else 0)\n",
    "\n",
    "# Iterate over the \"Labels\" column and check node types\n",
    "\n",
    "df['0_Node_Type'] = df.apply(lambda row: 1 if row['Labels'].split(\"<->\")[0] in RESECTION.get(row['Subject'], []) else 0, axis=1)\n",
    "df['1_Node_Type'] = df.apply(lambda row: 1 if row['Labels'].split(\"<->\")[1] in RESECTION.get(row['Subject'], []) else 0, axis=1)"
   ]
  },
  {
   "cell_type": "markdown",
   "metadata": {},
   "source": [
    "Iterate all subjects, and sum their CVS scores, grouped by connection type. Save results in a new dataframe with four columns: Outcome, EN-NN, EN-EN and NN-NN."
   ]
  },
  {
   "cell_type": "code",
   "execution_count": null,
   "metadata": {},
   "outputs": [],
   "source": [
    "pred_features = pd.DataFrame(columns=[\"Outcome\", \"1-0\", \"1-1\", \"0-0\"])"
   ]
  },
  {
   "cell_type": "markdown",
   "metadata": {},
   "source": [
    "A function to estimate the connectivity change, which relies on the distribution minimum, maximum and mean value:"
   ]
  },
  {
   "cell_type": "code",
   "execution_count": null,
   "metadata": {},
   "outputs": [],
   "source": [
    "def MM(x):\n",
    "    return (np.min(x)+np.max(x))/np.mean(x)"
   ]
  },
  {
   "cell_type": "code",
   "execution_count": null,
   "metadata": {},
   "outputs": [],
   "source": [
    "print(measure)\n",
    "\n",
    "outcome, scores_10, scores_11, scores_00 = [],[],[],[]\n",
    "\n",
    "for sub in subs:\n",
    "\n",
    "    print(f\"Subject: {sub}\")\n",
    "    df_sub = df[df['Subject'] == sub]\n",
    "\n",
    "    if df_sub['Outcome'].all() == 1: outcome.append(1)\n",
    "    else: outcome.append(0)\n",
    "\n",
    "    r = 0.1\n",
    "    group_size = 1\n",
    "    if len(RESECTION[sub])>1:\n",
    "        group_size = int(len(NODES[str(sub)])*r) if int(len(NODES[str(sub)])*r) < len(RESECTION[sub]) else len(RESECTION[sub])-1\n",
    "    print(group_size, int(len(NODES[str(sub)])*r) < len(RESECTION[sub]))\n",
    "\n",
    "    cvs_condition_10, cvs_condition_11, cvs_condition_00 = [],[],[]\n",
    "\n",
    "    for i in range(100):\n",
    "\n",
    "        resection_labels = list(np.random.choice(RESECTION[sub], size=group_size, replace=False))\n",
    "        non_resection_labels = list(np.random.choice(list(set(NODES[str(sub)])-set(RESECTION[sub])), size=group_size, replace=False))\n",
    "\n",
    "        for en in RESECTION[sub]:\n",
    "          if en not in resection_labels:\n",
    "            # nn is a random non-resected node that is outside of the non_resection_labels list\n",
    "            nn = list(np.random.choice(list(set(NODES[str(sub)])-set(non_resection_labels)-set(RESECTION[sub])), size=1, replace=False))[0]\n",
    "            # print(\"Analyzing Connectivity of Node:\", en)\n",
    "            # Split the Labels column into two nodes using '<->'\n",
    "            split_labels = df_sub['Labels'].str.split('<->', expand=True)\n",
    "\n",
    "            # Check if one node is the en and the other is in resection_labels or non_resection_labels\n",
    "            relevant_rows = df_sub[((split_labels[0] == en) & split_labels[1].isin(resection_labels + non_resection_labels)) |\n",
    "                            ((split_labels[1] == en) & split_labels[0].isin(resection_labels + non_resection_labels)) |\n",
    "                            ((split_labels[0] == nn) & split_labels[1].isin(non_resection_labels)) |\n",
    "                            (split_labels[0].isin(non_resection_labels) & (split_labels[1] == nn))]\n",
    "\n",
    "            condition_10 = (relevant_rows['0_Node_Type'] == 1) & (relevant_rows['1_Node_Type'] == 0)\n",
    "            condition_01 = (relevant_rows['0_Node_Type'] == 0) & (relevant_rows['1_Node_Type'] == 1)\n",
    "            condition_11 = (relevant_rows['0_Node_Type'] == 1) & (relevant_rows['1_Node_Type'] == 1)\n",
    "            condition_00 = (relevant_rows['0_Node_Type'] == 0) & (relevant_rows['1_Node_Type'] == 0)\n",
    "\n",
    "            # print(\"Pair 00:\", condition_00.values.sum())\n",
    "            # print(\"Pair 01:\", condition_01.values.sum()+condition_10.values.sum())\n",
    "            # print(\"Pair 11:\", condition_11.values.sum())\n",
    "\n",
    "            # Calculate CVS values for conditions 10 and 11\n",
    "            # Mean\n",
    "            cvs_condition_10 += list(relevant_rows[condition_10]['CVS'].apply(lambda x: np.mean(list(map(float, x.strip('[]').split())))))\n",
    "            cvs_condition_10 += list(relevant_rows[condition_01]['CVS'].apply(lambda x: np.mean(list(map(float, x.strip('[]').split())))))\n",
    "            cvs_condition_11 += list(relevant_rows[condition_11]['CVS'].apply(lambda x: np.mean(list(map(float, x.strip('[]').split())))))\n",
    "            cvs_condition_00 += list(relevant_rows[condition_00]['CVS'].apply(lambda x: np.mean(list(map(float, x.strip('[]').split())))))\n",
    "\n",
    "    print(len(cvs_condition_00))\n",
    "    print(len(cvs_condition_10))\n",
    "    print(len(cvs_condition_11))\n",
    "    # # Flatten the avg lists using itertools.chain.from_iterable\n",
    "    # flattened_cvs_condition_10 = list(itertools.chain.from_iterable(cvs_condition_10))\n",
    "    # flattened_cvs_condition_11 = list(itertools.chain.from_iterable(cvs_condition_11))\n",
    "\n",
    "    # Calculate mean and standard deviation\n",
    "    mean_condition_10 = np.mean(cvs_condition_10)\n",
    "    std_condition_10 = np.std(cvs_condition_10)\n",
    "\n",
    "    mean_condition_11 = np.mean(cvs_condition_11)\n",
    "    std_condition_11 = np.std(cvs_condition_11)\n",
    "\n",
    "    mean_condition_00 = np.mean(cvs_condition_00)\n",
    "    std_condition_00 = np.std(cvs_condition_00)\n",
    "\n",
    "    # Calculate thresholds based on sigma\n",
    "    thresholds = [1]\n",
    "    # Calculate thresholded average CVS values for condition_10\n",
    "    thresholded_cvs_condition_10 = {\n",
    "        threshold: [val for val in cvs_condition_10 if val > mean_condition_10 + std_condition_10 * threshold]\n",
    "        for threshold in thresholds\n",
    "    }\n",
    "    # Calculate thresholded average CVS values for condition_11\n",
    "    thresholded_cvs_condition_11 = {\n",
    "        threshold: [val for val in cvs_condition_11 if val > mean_condition_11 + std_condition_11 * threshold]\n",
    "        for threshold in thresholds\n",
    "    }\n",
    "    # Calculate thresholded average CVS values for condition_00\n",
    "    thresholded_cvs_condition_00 = {\n",
    "        threshold: [val for val in cvs_condition_00 if val > mean_condition_00 + std_condition_00 * threshold]\n",
    "        for threshold in thresholds\n",
    "    }\n",
    "\n",
    "    for idx, threshold in enumerate(thresholds):\n",
    "            scores_10.append(np.mean(thresholded_cvs_condition_10[threshold]))\n",
    "            scores_11.append(np.mean(thresholded_cvs_condition_11[threshold]))\n",
    "            scores_00.append(np.mean(thresholded_cvs_condition_00[threshold]))\n",
    "\n",
    "    print(len(outcome), len(scores_00), len(scores_10), len(scores_11))\n",
    "\n",
    "pred_features[\"Outcome\"] = outcome\n",
    "pred_features[\"1-0\"] = scores_10\n",
    "pred_features[\"1-1\"] = scores_11\n",
    "pred_features[\"0-0\"] = scores_00\n"
   ]
  },
  {
   "cell_type": "code",
   "execution_count": null,
   "metadata": {},
   "outputs": [],
   "source": [
    "filename = main_folder + \"pred_features_conn_type_1sigma_mean.xlsx\""
   ]
  },
  {
   "cell_type": "code",
   "execution_count": null,
   "metadata": {},
   "outputs": [],
   "source": [
    "# pred_features.to_excel(filename)"
   ]
  },
  {
   "cell_type": "code",
   "execution_count": null,
   "metadata": {},
   "outputs": [],
   "source": [
    "data = pd.read_excel(filename, engine='openpyxl')"
   ]
  },
  {
   "cell_type": "markdown",
   "metadata": {},
   "source": [
    "Try to classify surgical outcomes based on connection type score (define in connection_type). Assume that poor outcomes achieve lower scores, but try both options."
   ]
  },
  {
   "cell_type": "code",
   "execution_count": null,
   "metadata": {},
   "outputs": [],
   "source": [
    "from scipy.stats import shapiro, mannwhitneyu, ttest_ind\n",
    "\n",
    "def stat_test(x, y):\n",
    "    # Mann Whitney U test if x and y not Gaussian, Ind t-Test if x and y Gaussian\n",
    "    test = \"\"\n",
    "    _, px = shapiro(x)\n",
    "    _, py = shapiro(y)\n",
    "\n",
    "    pvalue = 1\n",
    "    if px > 0.05 or py > 0.05: _, pvalue = mannwhitneyu(x, y, alternative='two-sided'); test = \"Mann Whitney U\"\n",
    "    elif px <= 0.05 and py <= 0.05: _, pvalue = ttest_ind(x, y, equal_var = False); test = \"Ind t-Test\"\n",
    "\n",
    "    return test, pvalue\n",
    "\n",
    "\n",
    "def to_labels(pos_probs, threshold):\n",
    "    # function to map all values >=threshold to 1 and all values <threshold to 0\n",
    "\n",
    "\treturn list((pos_probs >= threshold).astype('int')) \n",
    "\n",
    "\n",
    "def moving_thresh_auc(predictive_measure=[], outcome=[], n_high=14, n_low=7, moving_step=0.0001):\n",
    "    # returns AUC, best threshold, true negatives and true positives at the best threshold\n",
    "    thresholds = np.arange(0, np.max(predictive_measure), moving_step)\n",
    "\n",
    "    g = np.array([pm for i,pm in enumerate(predictive_measure) if outcome[i]==\"bad\"])\n",
    "    b = np.array([pm for i,pm in enumerate(predictive_measure) if outcome[i]==\"good\"])\n",
    "\n",
    "    A, A_top = 0, 0\n",
    "    T = 0\n",
    "    tp_top, tn_top = 0, 0\n",
    "    step = 0\n",
    "    for t in thresholds:    \n",
    "        g_l, b_l = to_labels(g, t), to_labels(b, t)\n",
    "        tp = sum(g_l)/n_high \n",
    "        tn = b_l.count(0)/n_low\n",
    "        A = (tp + tn)/2\n",
    "        if A>A_top: \n",
    "            step=0\n",
    "            A_top=A\n",
    "            T=t\n",
    "            tn_top,tp_top=tn,tp\n",
    "        elif A==A_top: step+=moving_step\n",
    "\n",
    "    return (A_top, T, tn_top, tp_top)"
   ]
  },
  {
   "cell_type": "markdown",
   "metadata": {},
   "source": [
    "Connection type comparison for good outcome, poor outcome and all patients together."
   ]
  },
  {
   "cell_type": "code",
   "execution_count": null,
   "metadata": {},
   "outputs": [],
   "source": [
    "data_0 = data[data['Outcome'] == 0]\n",
    "data_1 = data[data['Outcome'] == 1]"
   ]
  },
  {
   "cell_type": "markdown",
   "metadata": {},
   "source": [
    "Compare connection types based on mean CVS scores normalized by mean."
   ]
  },
  {
   "cell_type": "code",
   "execution_count": null,
   "metadata": {},
   "outputs": [],
   "source": [
    "fig, axs = plt.subplots(1, 3, figsize=(15, 6))\n",
    "\n",
    "bp1 = axs[0].boxplot([data_1[\"Norm_11\"],data_1[\"Norm_10\"],data_1[\"Norm_00\"]], labels=['E-E', 'E-N', 'N-N'], patch_artist=True, medianprops=dict(color='black'))\n",
    "# axs[0].set_ylabel('Normalized mean CVS (above mean+std)')\n",
    "axs[0].set_ylabel('Average CVS outliers (T=1σ)')\n",
    "# Stat test for good outcome (data_1)\n",
    "group01 = list(n-1 for n in list(data_1.Norm_10))\n",
    "group11 = list(n-1 for n in list(data_1.Norm_11))\n",
    "group00 = list(n-1 for n in list(data_1.Norm_00))\n",
    "\n",
    "axs[0].set_title(\"Good outcome patients\\npvalue 1-1 vs. 0-1 = %.6f\\npvalue 1-1 vs. 0-0 = %.6f\" % (stat_test(group11, group01)[1],stat_test(group11, group00)[1]))\n",
    "\n",
    "bp2 = axs[1].boxplot([data_0[\"Norm_11\"],data_0[\"Norm_10\"],data_0[\"Norm_00\"]], labels=['E-E', 'E-N', 'N-N'], patch_artist=True, medianprops=dict(color='black'))\n",
    "# axs[1].set_ylabel('Normalized mean CVS (above mean+std)')\n",
    "axs[1].set_ylabel('Average CVS outliers (T=1σ)')\n",
    "# Stat test for poor outcome (data_0)\n",
    "group01 = list(n-1 for n in list(data_0.Norm_10))\n",
    "group11 = list(n-1 for n in list(data_0.Norm_11))\n",
    "group00 = list(n-1 for n in list(data_0.Norm_00))\n",
    "\n",
    "axs[1].set_title(\"Poor outcome patients\\npvalue 1-1 vs. 0-1 = %.6f\\npvalue 1-1 vs. 0-0 = %.6f\" % (stat_test(group11, group01)[1],stat_test(group11, group00)[1]))\n",
    "\n",
    "bp3 = axs[2].boxplot([data[\"Norm_11\"],data[\"Norm_10\"],data[\"Norm_00\"]], labels=['E-E', 'E-N', 'N-N'], patch_artist=True, medianprops=dict(color='black'))\n",
    "# axs[2].set_ylabel('Normalized mean CVS (above mean+std)')\n",
    "axs[2].set_ylabel('Average CVS outliers (T=1σ)')\n",
    "# Stat test for all data (data)\n",
    "group01 = list(n-1 for n in list(data.Norm_10))\n",
    "group11 = list(n-1 for n in list(data.Norm_11))\n",
    "group00 = list(n-1 for n in list(data.Norm_00))\n",
    "\n",
    "axs[2].set_title(\"All patients\\npvalue 0-1 vs. 1-1 = %.4f\\npvalue 0-1 vs. 0-0 = %.4f\" % (stat_test(group01, group11)[1],stat_test(group01, group00)[1]))\n",
    "\n",
    "# Custom colors for boxplots\n",
    "colors = ['#8B0000', '#800080', '#808080']\n",
    "for box, color in zip(bp1['boxes'], colors):\n",
    "    box.set_facecolor(color)\n",
    "\n",
    "for box, color in zip(bp2['boxes'], colors):\n",
    "    box.set_facecolor(color)\n",
    "\n",
    "for box, color in zip(bp3['boxes'], colors):\n",
    "    box.set_facecolor(color)\n",
    "\n",
    "# Adjust layout\n",
    "plt.tight_layout()\n",
    "\n",
    "plt.show()"
   ]
  },
  {
   "cell_type": "code",
   "execution_count": null,
   "metadata": {},
   "outputs": [],
   "source": [
    "data=[list(data_1[\"Norm_10\"]),list(data_1[\"Norm_11\"]),list(data_1[\"Norm_00\"])]"
   ]
  },
  {
   "cell_type": "code",
   "execution_count": null,
   "metadata": {},
   "outputs": [],
   "source": [
    "np.array(data).shape"
   ]
  },
  {
   "cell_type": "markdown",
   "metadata": {},
   "source": [
    "Compare connection types based on mean CVS scores."
   ]
  },
  {
   "cell_type": "code",
   "execution_count": 47,
   "metadata": {},
   "outputs": [
    {
     "data": {
      "image/png": "[encoded data removed]",
      "text/plain": [
       "<Figure size 1500x600 with 3 Axes>"
      ]
     },
     "metadata": {},
     "output_type": "display_data"
    }
   ],
   "source": [
    "fig, axs = plt.subplots(1, 3, figsize=(15, 6))\n",
    "\n",
    "bp1 = axs[0].boxplot([data_1[\"1-1\"], data_1[\"1-0\"],data_1[\"0-0\"]], labels=['E-E', 'E-N', 'N-N'], patch_artist=True, medianprops=dict(color='black'))\n",
    "axs[0].set_ylabel('Mean CVS (above mean+std)')\n",
    "# Stat test for good outcome (data_1)\n",
    "group01 = list(n-1 for n in list(data_1[\"1-0\"]))\n",
    "group11 = list(n-1 for n in list(data_1[\"1-1\"]))\n",
    "group00 = list(n-1 for n in list(data_1[\"0-0\"]))\n",
    "\n",
    "axs[0].set_title(\"Good outcome patients\\npvalue 0-1 vs. 1-1 = %.4f\\npvalue 1-1 vs. 0-0 = %.4f\" % (stat_test(group01, group11)[1],stat_test(group11, group00)[1]))\n",
    "\n",
    "bp2 = axs[1].boxplot([data_0[\"1-1\"], data_0[\"1-0\"],data_0[\"0-0\"]], labels=['E-E', 'E-N', 'N-N'], patch_artist=True, medianprops=dict(color='black'))\n",
    "axs[1].set_ylabel('Mean CVS (above mean+std)')\n",
    "# Stat test for poor outcome (data_0)\n",
    "group01 = list(n-1 for n in list(data_0[\"1-0\"]))\n",
    "group11 = list(n-1 for n in list(data_0[\"1-1\"]))\n",
    "group00 = list(n-1 for n in list(data_0[\"0-0\"]))\n",
    "axs[1].set_title(\"Poor outcome patients\\npvalue 0-1 vs. 1-1 = %.4f\\npvalue 0-1 vs. 0-0 = %.4f\" % (stat_test(group01, group11)[1],stat_test(group01, group00)[1]))\n",
    "\n",
    "bp3 = axs[2].boxplot([data[\"1-1\"], data[\"1-0\"],data[\"0-0\"]], labels=['E-E', 'E-N', 'N-N'], patch_artist=True, medianprops=dict(color='black'))\n",
    "axs[2].set_ylabel('Mean CVS (above mean+std)')\n",
    "# Stat test for all data (data)\n",
    "group01 = list(n-1 for n in list(data[\"1-0\"]))\n",
    "group11 = list(n-1 for n in list(data[\"1-1\"]))\n",
    "group00 = list(n-1 for n in list(data[\"0-0\"]))\n",
    "axs[2].set_title(\"All patients\\npvalue 0-1 vs. 1-1 = %.4f\\npvalue 0-1 vs. 0-0 = %.4f\" % (stat_test(group01, group11)[1],stat_test(group01, group00)[1]))\n",
    "\n",
    "# Custom colors for boxplots\n",
    "colors = ['#8B0000', '#800080', '#808080']\n",
    "for box, color in zip(bp1['boxes'], colors):\n",
    "    box.set_facecolor(color)\n",
    "\n",
    "for box, color in zip(bp2['boxes'], colors):\n",
    "    box.set_facecolor(color)\n",
    "\n",
    "for box, color in zip(bp3['boxes'], colors):\n",
    "    box.set_facecolor(color)\n",
    "\n",
    "# Adjust layout\n",
    "plt.tight_layout()\n",
    "\n",
    "plt.show()"
   ]
  },
  {
   "cell_type": "markdown",
   "metadata": {},
   "source": [
    "Surgical outcome comparison based on connection type; based on mean CVS."
   ]
  },
  {
   "cell_type": "code",
   "execution_count": null,
   "metadata": {},
   "outputs": [],
   "source": [
    "fig, axs = plt.subplots(1, 3, figsize=(15, 6))\n",
    "\n",
    "axs[0].boxplot([data_1[\"1-0\"],data_0[\"1-0\"]], labels=['EI', 'EII-IV'])\n",
    "axs[0].set_title(\"Connection type 1-0\")\n",
    "axs[0].set_ylabel('Mean CVS (above mean+std)')\n",
    "\n",
    "axs[1].boxplot([data_1[\"1-1\"],data_0[\"1-1\"]], labels=['EI', 'EII-IV'])\n",
    "axs[1].set_title(\"Connection type 1-1\")\n",
    "axs[1].set_ylabel('Mean CVS (above mean+std)')\n",
    "\n",
    "axs[2].boxplot([data_1[\"0-0\"],data_0[\"0-0\"]], labels=['EI', 'EII-IV'])\n",
    "axs[2].set_title(\"Connection type 0-0\")\n",
    "axs[2].set_ylabel('Mean CVS (above mean+std)')\n",
    "\n",
    "plt.show()\n",
    "\n",
    "# connection_types = [\"Norm_10\", \"Norm_00\", \"Norm_11\"]\n",
    "connection_types = [\"1-0\", \"1-1\", \"0-0\"]\n",
    "\n",
    "for connection_type in connection_types:\n",
    "\n",
    "    print(\"Connection type:\", connection_type)\n",
    "\n",
    "    x_plot, y_plot = list(data[connection_type]), [\"good\" if val==1 else \"bad\" for val in data[\"Outcome\"]]\n",
    "\n",
    "    # calculate moving threshold-based AUC\n",
    "    mauc = moving_thresh_auc(x_plot, y_plot, n_high=5, n_low=14, moving_step=0.0001)\n",
    "\n",
    "    group1 = [x for i,x in enumerate(x_plot) if y_plot[i]==\"good\"]\n",
    "    group0 = [x for i,x in enumerate(x_plot) if y_plot[i]==\"bad\"]\n",
    "\n",
    "    stat, pvalue = stat_test(group1, group0)\n",
    "\n",
    "    print(\"AUC = %.2f\" % mauc[0]) # mauc contains maximum AUC, threshold value, TN and TP\n",
    "    print(\"threshold = %.4f\" % mauc[1])\n",
    "    print(\"TN (true good outcomes) = %.2f\" % mauc[2])\n",
    "    print(\"TP (true bad outcomes)= %.2f\" % mauc[3])\n",
    "    print(\"P-value = %.4f\\n\" % pvalue)"
   ]
  },
  {
   "cell_type": "markdown",
   "metadata": {},
   "source": [
    "Surgical outcome comparison based on CVS scores normalized by mean."
   ]
  },
  {
   "cell_type": "code",
   "execution_count": null,
   "metadata": {},
   "outputs": [],
   "source": [
    "fig, axs = plt.subplots(1, 3, figsize=(15, 6))\n",
    "\n",
    "axs[0].boxplot([data_1[\"Norm_10\"],data_0[\"Norm_10\"]], labels=['EI', 'EII-IV'])\n",
    "axs[0].set_title(\"Connection type 1-0\")\n",
    "axs[0].set_ylabel('Normalized mean CVS (above mean+std)')\n",
    "\n",
    "axs[1].boxplot([data_1[\"Norm_11\"],data_0[\"Norm_11\"]], labels=['EI', 'EII-IV'])\n",
    "axs[1].set_title(\"Connection type 1-1\")\n",
    "axs[1].set_ylabel('Normalized mean CVS (above mean+std)')\n",
    "\n",
    "axs[2].boxplot([data_1[\"Norm_00\"],data_0[\"Norm_00\"]], labels=['EI', 'EII-IV'])\n",
    "axs[2].set_title(\"Connection type 0-0\")\n",
    "axs[2].set_ylabel('Normalized mean CVS (above mean+std)')\n",
    "\n",
    "plt.show()\n"
   ]
  },
  {
   "cell_type": "code",
   "execution_count": null,
   "metadata": {},
   "outputs": [],
   "source": []
  }
 ],
 "metadata": {
  "kernelspec": {
   "display_name": "xnn",
   "language": "python",
   "name": "python3"
  },
  "language_info": {
   "codemirror_mode": {
    "name": "ipython",
    "version": 3
   },
   "file_extension": ".py",
   "mimetype": "text/x-python",
   "name": "python",
   "nbconvert_exporter": "python",
   "pygments_lexer": "ipython3",
   "version": "3.9.16"
  },
  "orig_nbformat": 4
 },
 "nbformat": 4,
 "nbformat_minor": 2
}
