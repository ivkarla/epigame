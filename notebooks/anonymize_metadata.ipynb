{
  "nbformat": 4,
  "nbformat_minor": 0,
  "metadata": {
    "colab": {
      "provenance": [],
      "authorship_tag": "ABX9TyP8yv9Xnzy3DXGagiWuLj4P",
      "include_colab_link": true
    },
    "kernelspec": {
      "name": "python3",
      "display_name": "Python 3"
    },
    "language_info": {
      "name": "python"
    }
  },
  "cells": [
    {
      "cell_type": "markdown",
      "metadata": {
        "id": "view-in-github",
        "colab_type": "text"
      },
      "source": [
        "<a href=\"https://colab.research.google.com/github/ivkarla/epigame/blob/main/notebooks/anonymize_metadata.ipynb\" target=\"_parent\"><img src=\"https://colab.research.google.com/assets/colab-badge.svg\" alt=\"Open In Colab\"/></a>"
      ]
    },
    {
      "cell_type": "code",
      "execution_count": 2,
      "metadata": {
        "id": "y1-_wNdIJgDD"
      },
      "outputs": [],
      "source": [
        "subs_names ={\n",
        "\"ASJ\":1,\n",
        "\"BGL\":2,\n",
        "\"BRM\":3,\n",
        "\"CRD\":4,\n",
        "\"CRF\":5,\n",
        "\"GTA\":6,\n",
        "\"HAF\":7,\n",
        "\"HDW\":8,\n",
        "\"JQN\":9,\n",
        "\"MGM\":10,\n",
        "\"MMM\":11,\n",
        "\"MRI\":12,\n",
        "\"MSF\":13,\n",
        "\"PTD\":14,\n",
        "\"RGE\":15,\n",
        "\"SDA\":16,\n",
        "\"SRM\":17,\n",
        "\"USA\":18,\n",
        "\"VBM\":19,\n",
        "\"VCG\":20,\n",
        "\"VML\":21\n",
        "}"
      ]
    },
    {
      "cell_type": "code",
      "source": [
        "import pandas as pd\n",
        "\n",
        "from google.colab import drive\n",
        "drive.mount('/content/gdrive')\n",
        "root_folder = \"/content/gdrive/\"\n",
        "\n",
        "project_folder = \"Shared drives/A&K/data/\"\n",
        "main_folder = root_folder + project_folder\n",
        "\n",
        "metadata_file = main_folder + \"subsmeta.xlsx\""
      ],
      "metadata": {
        "colab": {
          "base_uri": "https://localhost:8080/"
        },
        "id": "IcPL3GxDMGXO",
        "outputId": "9054dcec-31ea-4791-9142-0ec9ec2cdfe9"
      },
      "execution_count": 5,
      "outputs": [
        {
          "output_type": "stream",
          "name": "stdout",
          "text": [
            "Drive already mounted at /content/gdrive; to attempt to forcibly remount, call drive.mount(\"/content/gdrive\", force_remount=True).\n"
          ]
        }
      ]
    },
    {
      "cell_type": "code",
      "source": [
        "# Create DataFrame\n",
        "df = pd.read_excel(metadata_file)\n",
        "\n",
        "# Create a dictionary to map each unique channel to an ID\n",
        "\n",
        "def get_anonymized_channel(contact, contact_id_map, next_id):\n",
        "\n",
        "    if contact not in contact_id_map:\n",
        "        contact_id_map[contact] = next_id\n",
        "        next_id += 1\n",
        "    return contact_id_map[contact], next_id\n",
        "\n",
        "# Anonymize the EEG channels\n",
        "anonymized_channels = []\n",
        "\n",
        "for channels in df['ch_labels']:\n",
        "\n",
        "  next_id = 1\n",
        "  contact_id_map = {}\n",
        "\n",
        "  anonymized_channel_list = []\n",
        "  channels_list = channels.strip(\"[]\").split(',')\n",
        "  channels_list = [channel.strip(\" \").strip(\"'\").strip('\"') for channel in channels_list]\n",
        "\n",
        "  for channel in channels_list:\n",
        "\n",
        "    contact_1, contact_2 = channel.split('-')\n",
        "\n",
        "    contact_1_id, next_id = get_anonymized_channel(contact_1, contact_id_map, next_id)\n",
        "    contact_2_id, next_id = get_anonymized_channel(contact_2, contact_id_map, next_id)\n",
        "    anonymized_channel_list.append(f'{contact_1_id}-{contact_2_id}')\n",
        "\n",
        "  anonymized_channels.append(anonymized_channel_list)\n",
        "\n",
        "# Add the anonymized channels to the DataFrame\n",
        "df['anonymized_channels'] = anonymized_channels\n"
      ],
      "metadata": {
        "id": "vTj2vwFmKTZr"
      },
      "execution_count": 61,
      "outputs": []
    },
    {
      "cell_type": "code",
      "source": [
        "def anonymize_channels(channels):\n",
        "    contact_mapping = {}\n",
        "    current_id = 1\n",
        "\n",
        "    channels_list = channels.split(',')\n",
        "    channels_list = [channel[2:-1] for channel in channels_list]\n",
        "\n",
        "    for channel in channels_list:\n",
        "      # Split the channel into two contacts\n",
        "      contact_1, contact_2 = channel.split('-')\n",
        "\n",
        "      if contact_1 not in contact_mapping:\n",
        "        contact_mapping[contact_1] = current_id\n",
        "        current_id += 1\n",
        "      if contact_2 not in contact_mapping:\n",
        "        contact_mapping[contact_2] = current_id\n",
        "        current_id += 1\n",
        "\n",
        "    return contact_mapping\n",
        "\n",
        "# Apply anonymization for each row in the DataFrame\n",
        "contact_mapping = {}\n",
        "\n",
        "for i, row in df.iterrows():\n",
        "  sub_id = row['sub']\n",
        "  label_map = anonymize_channels(row['ch_labels'])\n",
        "  contact_mapping[sub_id] = label_map\n"
      ],
      "metadata": {
        "id": "pewarCkXXxb_"
      },
      "execution_count": 62,
      "outputs": []
    },
    {
      "cell_type": "code",
      "source": [
        "def anonymize_resection(resection_list, mapping):\n",
        "    return [mapping.get(contact) for contact in resection_list]\n",
        "\n",
        "# Apply the anonymization for the 'ch_resection' column\n",
        "df['anonymized_ch_resection'] = df.apply(lambda row: anonymize_resection([contact.strip(\" \").strip(\"'\").strip('\"') for contact in row['ch_resection'].strip(\"[]\").split(',')], contact_mapping[row['sub']]), axis=1)\n"
      ],
      "metadata": {
        "id": "47r-YUrWdjr6"
      },
      "execution_count": 64,
      "outputs": []
    },
    {
      "cell_type": "code",
      "source": [
        "df"
      ],
      "metadata": {
        "id": "FdOYf3CSlGpy"
      },
      "execution_count": null,
      "outputs": []
    },
    {
      "cell_type": "code",
      "source": [
        "df.to_excel(main_folder + \"anonymized_metadata.xlsx\", index=False)\n"
      ],
      "metadata": {
        "id": "JDltm0bmmSOs"
      },
      "execution_count": 66,
      "outputs": []
    },
    {
      "cell_type": "code",
      "source": [
        "results_concat = pd.read_excel(main_folder + \"results-concat.xlsx\")\n",
        "\n",
        "def anonymize_en(en_list, mapping):\n",
        "  anonymized_en = []\n",
        "  for channel in en_list:\n",
        "    contact_1, contact_2 = channel.split('-')\n",
        "    anonymized_contact_1 = mapping.get(contact_1)\n",
        "    anonymized_contact_2 = mapping.get(contact_2)\n",
        "\n",
        "    anonymized_en.append(f\"{anonymized_contact_1}-{anonymized_contact_2}\")\n",
        "    return anonymized_en\n",
        "\n",
        "# Apply the anonymization for the 'EN' column\n",
        "results_concat['anonymized_EN'] = results_concat.apply(lambda row: anonymize_en([contact.strip(\" \").strip(\"'\").strip('\"') for contact in row['EN'].strip(\"[]\").split(',')], contact_mapping[row['subject']]), axis=1)\n",
        "\n",
        "results_concat['anonymized_subject'] = results_concat['subject'].map(subs_names)"
      ],
      "metadata": {
        "id": "rfuHhb3SpYnC"
      },
      "execution_count": 71,
      "outputs": []
    },
    {
      "cell_type": "code",
      "source": [],
      "metadata": {
        "id": "avFLtBjHrh81"
      },
      "execution_count": 72,
      "outputs": []
    }
  ]
}